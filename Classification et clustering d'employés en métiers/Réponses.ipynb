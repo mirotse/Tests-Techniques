{
 "cells": [
  {
   "cell_type": "markdown",
   "metadata": {},
   "source": [
    "# Part I : Quel(le) data scientist êtes-vous ?\n",
    "## Contexte de l’analyse\n",
    "\n",
    "Elu métier le plus sexy par la Harvard Business Review en octobre 2012, le data scientist représente un profil rare qui exige de nombreuses compétences.\n",
    "\n",
    "A partir d'un dataset Aquila, vous réaliserez :\n",
    "- un clustering non supervisé afin d'identifier 2 groupes de profils techniques distinctes\n",
    "- une prédiction des profils dont le métier n'est pas labellisé\n",
    "\n",
    "\n",
    "## Données\n",
    "data.csv contient 6 variables : \n",
    "    - 'Entreprise' correspond à une liste d'entreprises fictive\n",
    "    - 'Metier' correspond au métier parmi data scientist, lead data scientist, data engineer et data architecte\n",
    "    - 'Technologies' correspond aux compétences maîtrisées par le profil\n",
    "    - 'Diplome' correspond à son niveau scolaire (Bac, Master, PhD,...)\n",
    "    - 'Experience' correspond au nombre d'années d'expériences\n",
    "    - 'Ville' correspond au lieu de travail\n",
    "    \n",
    "\n",
    "\n",
    "## Répondez aux questions \n",
    "\n",
    "Bonne chance!"
   ]
  },
  {
   "cell_type": "code",
   "execution_count": 1,
   "metadata": {},
   "outputs": [],
   "source": [
    "# Import des libraries classique (numpy, pandas, ...)\n",
    "import pandas as pd\n",
    "import numpy as np\n",
    "import re\n",
    "import sklearn as sk\n",
    "import seaborn as sb\n",
    "from matplotlib import pyplot as plt\n",
    "plt.style.use('ggplot')"
   ]
  },
  {
   "cell_type": "markdown",
   "metadata": {},
   "source": [
    "### 1) Importer le tableau de données dans un dataframe "
   ]
  },
  {
   "cell_type": "code",
   "execution_count": 2,
   "metadata": {},
   "outputs": [],
   "source": [
    "# Import du dataframe \"data.csv\"\n",
    "df = pd.read_csv('data.csv',decimal=\",\")"
   ]
  },
  {
   "cell_type": "code",
   "execution_count": 3,
   "metadata": {},
   "outputs": [
    {
     "data": {
      "text/html": [
       "<div>\n",
       "<style scoped>\n",
       "    .dataframe tbody tr th:only-of-type {\n",
       "        vertical-align: middle;\n",
       "    }\n",
       "\n",
       "    .dataframe tbody tr th {\n",
       "        vertical-align: top;\n",
       "    }\n",
       "\n",
       "    .dataframe thead th {\n",
       "        text-align: right;\n",
       "    }\n",
       "</style>\n",
       "<table border=\"1\" class=\"dataframe\">\n",
       "  <thead>\n",
       "    <tr style=\"text-align: right;\">\n",
       "      <th></th>\n",
       "      <th>Entreprise</th>\n",
       "      <th>Metier</th>\n",
       "      <th>Technologies</th>\n",
       "      <th>Diplome</th>\n",
       "      <th>Experience</th>\n",
       "      <th>Ville</th>\n",
       "    </tr>\n",
       "  </thead>\n",
       "  <tbody>\n",
       "    <tr>\n",
       "      <th>0</th>\n",
       "      <td>Sanofi</td>\n",
       "      <td>Data scientist</td>\n",
       "      <td>Matlab/Python/Pyspark/Scikit-learn/Tensorflow</td>\n",
       "      <td>Master</td>\n",
       "      <td>1.0</td>\n",
       "      <td>Paris</td>\n",
       "    </tr>\n",
       "    <tr>\n",
       "      <th>1</th>\n",
       "      <td>Massachusetts General Hospital(MGH)</td>\n",
       "      <td>Data architecte</td>\n",
       "      <td>Python/Java/Scala/MongoDB</td>\n",
       "      <td>Master</td>\n",
       "      <td>3.0</td>\n",
       "      <td>Marseille</td>\n",
       "    </tr>\n",
       "    <tr>\n",
       "      <th>2</th>\n",
       "      <td>Delve</td>\n",
       "      <td>Lead data scientist</td>\n",
       "      <td>SPSS/SQL/Teradata/R/Python/Tensorflow/scikit-l...</td>\n",
       "      <td>Master</td>\n",
       "      <td>3.0</td>\n",
       "      <td>Nantes</td>\n",
       "    </tr>\n",
       "    <tr>\n",
       "      <th>3</th>\n",
       "      <td>Ann &amp; Robert H. Lurie Children’s Hospital of C...</td>\n",
       "      <td>Data scientist</td>\n",
       "      <td>C/C++/Java/Python</td>\n",
       "      <td>Master</td>\n",
       "      <td>1.5</td>\n",
       "      <td>Marseille</td>\n",
       "    </tr>\n",
       "    <tr>\n",
       "      <th>4</th>\n",
       "      <td>Arm</td>\n",
       "      <td>Data scientist</td>\n",
       "      <td>Matlab/Python/C++/numpy/Tensorflow/scikit-learn</td>\n",
       "      <td>Phd</td>\n",
       "      <td>NaN</td>\n",
       "      <td>Bordeaux</td>\n",
       "    </tr>\n",
       "  </tbody>\n",
       "</table>\n",
       "</div>"
      ],
      "text/plain": [
       "                                          Entreprise               Metier  \\\n",
       "0                                             Sanofi       Data scientist   \n",
       "1                Massachusetts General Hospital(MGH)      Data architecte   \n",
       "2                                              Delve  Lead data scientist   \n",
       "3  Ann & Robert H. Lurie Children’s Hospital of C...       Data scientist   \n",
       "4                                                Arm       Data scientist   \n",
       "\n",
       "                                        Technologies Diplome  Experience  \\\n",
       "0      Matlab/Python/Pyspark/Scikit-learn/Tensorflow  Master         1.0   \n",
       "1                          Python/Java/Scala/MongoDB  Master         3.0   \n",
       "2  SPSS/SQL/Teradata/R/Python/Tensorflow/scikit-l...  Master         3.0   \n",
       "3                                  C/C++/Java/Python  Master         1.5   \n",
       "4    Matlab/Python/C++/numpy/Tensorflow/scikit-learn     Phd         NaN   \n",
       "\n",
       "       Ville  \n",
       "0      Paris  \n",
       "1  Marseille  \n",
       "2     Nantes  \n",
       "3  Marseille  \n",
       "4   Bordeaux  "
      ]
     },
     "execution_count": 3,
     "metadata": {},
     "output_type": "execute_result"
    }
   ],
   "source": [
    "df.head()"
   ]
  },
  {
   "cell_type": "markdown",
   "metadata": {},
   "source": [
    "Premier constat : il va falloir faire un travail de préparation sur la colonne \"Technologies\" en faisant un split de la colonne avec comme séparateur \"/\" afin de pouvoir exploiter cette donnée"
   ]
  },
  {
   "cell_type": "markdown",
   "metadata": {},
   "source": [
    "### 2) Combien y a t-il d'observations dans ce dataset? Y a t-il des valeurs manquantes? "
   ]
  },
  {
   "cell_type": "code",
   "execution_count": 4,
   "metadata": {},
   "outputs": [
    {
     "data": {
      "text/plain": [
       "(9582, 6)"
      ]
     },
     "execution_count": 4,
     "metadata": {},
     "output_type": "execute_result"
    }
   ],
   "source": [
    "df.shape"
   ]
  },
  {
   "cell_type": "markdown",
   "metadata": {},
   "source": [
    "Le dataset comprend 9582 observations (lignes) et 6 variables (colonnes - ce qui correspond bien aux informations décrites dans le paragraphe Données)"
   ]
  },
  {
   "cell_type": "code",
   "execution_count": 5,
   "metadata": {},
   "outputs": [
    {
     "data": {
      "text/html": [
       "<div>\n",
       "<style scoped>\n",
       "    .dataframe tbody tr th:only-of-type {\n",
       "        vertical-align: middle;\n",
       "    }\n",
       "\n",
       "    .dataframe tbody tr th {\n",
       "        vertical-align: top;\n",
       "    }\n",
       "\n",
       "    .dataframe thead th {\n",
       "        text-align: right;\n",
       "    }\n",
       "</style>\n",
       "<table border=\"1\" class=\"dataframe\">\n",
       "  <thead>\n",
       "    <tr style=\"text-align: right;\">\n",
       "      <th></th>\n",
       "      <th>Total</th>\n",
       "      <th>Pourcentage (%)</th>\n",
       "    </tr>\n",
       "  </thead>\n",
       "  <tbody>\n",
       "    <tr>\n",
       "      <th>Experience</th>\n",
       "      <td>94</td>\n",
       "      <td>0.981006</td>\n",
       "    </tr>\n",
       "    <tr>\n",
       "      <th>Metier</th>\n",
       "      <td>19</td>\n",
       "      <td>0.198288</td>\n",
       "    </tr>\n",
       "    <tr>\n",
       "      <th>Entreprise</th>\n",
       "      <td>17</td>\n",
       "      <td>0.177416</td>\n",
       "    </tr>\n",
       "    <tr>\n",
       "      <th>Ville</th>\n",
       "      <td>0</td>\n",
       "      <td>0.000000</td>\n",
       "    </tr>\n",
       "    <tr>\n",
       "      <th>Diplome</th>\n",
       "      <td>0</td>\n",
       "      <td>0.000000</td>\n",
       "    </tr>\n",
       "    <tr>\n",
       "      <th>Technologies</th>\n",
       "      <td>0</td>\n",
       "      <td>0.000000</td>\n",
       "    </tr>\n",
       "  </tbody>\n",
       "</table>\n",
       "</div>"
      ],
      "text/plain": [
       "              Total  Pourcentage (%)\n",
       "Experience       94         0.981006\n",
       "Metier           19         0.198288\n",
       "Entreprise       17         0.177416\n",
       "Ville             0         0.000000\n",
       "Diplome           0         0.000000\n",
       "Technologies      0         0.000000"
      ]
     },
     "execution_count": 5,
     "metadata": {},
     "output_type": "execute_result"
    }
   ],
   "source": [
    "#Tableau affichant les données manquantes\n",
    "total = df.isnull().sum().sort_values(ascending=False)\n",
    "percent = (df.isnull().sum()/df.isnull().count()*100).sort_values(ascending=False)\n",
    "missing_data = pd.concat([total, percent], axis=1, keys=['Total', 'Pourcentage (%)'])\n",
    "missing_data"
   ]
  },
  {
   "cell_type": "markdown",
   "metadata": {},
   "source": [
    "Il y a des données manquantes pour les variables : Experience, Metier et Entreprise. Cependant, le taux de données manquantes n'excédant pas 1%, on est sur des ordres de grandeur relativement faible."
   ]
  },
  {
   "cell_type": "markdown",
   "metadata": {},
   "source": [
    "### 3) Réaliser l'imputation des valeurs manquantes pour la variable \"Experience\" avec : \n",
    "- la valeur médiane pour les data scientists\n",
    "- la valeur moyenne pour les data engineers"
   ]
  },
  {
   "cell_type": "code",
   "execution_count": 6,
   "metadata": {},
   "outputs": [
    {
     "data": {
      "text/plain": [
       "Metier\n",
       "Data architecte        23\n",
       "Data engineer          20\n",
       "Data scientist         32\n",
       "Lead data scientist    19\n",
       "Name: Experience, dtype: int64"
      ]
     },
     "execution_count": 6,
     "metadata": {},
     "output_type": "execute_result"
    }
   ],
   "source": [
    "# Au vu de ce qui est demandé, regardons la répartition des valeurs manquantes selon les métiers\n",
    "df.groupby(\"Metier\")[\"Experience\"].apply(lambda x : x.isnull().sum())"
   ]
  },
  {
   "cell_type": "markdown",
   "metadata": {},
   "source": [
    "On constate que tous les métiers sont concernés par des expériences manquantes. Au delà de ce qui est demandé, et pour répondre aux questions suivantes, je fais le choix de la valeur médiane pour les autres métiers. En effet, il semble y avoir des outliers et la médiane est plus robuste dans ce cas."
   ]
  },
  {
   "cell_type": "code",
   "execution_count": 7,
   "metadata": {},
   "outputs": [
    {
     "data": {
      "text/html": [
       "<div>\n",
       "<style scoped>\n",
       "    .dataframe tbody tr th:only-of-type {\n",
       "        vertical-align: middle;\n",
       "    }\n",
       "\n",
       "    .dataframe tbody tr th {\n",
       "        vertical-align: top;\n",
       "    }\n",
       "\n",
       "    .dataframe thead th {\n",
       "        text-align: right;\n",
       "    }\n",
       "</style>\n",
       "<table border=\"1\" class=\"dataframe\">\n",
       "  <thead>\n",
       "    <tr style=\"text-align: right;\">\n",
       "      <th></th>\n",
       "      <th>Metier</th>\n",
       "      <th>Experience</th>\n",
       "    </tr>\n",
       "  </thead>\n",
       "  <tbody>\n",
       "    <tr>\n",
       "      <th>4</th>\n",
       "      <td>Data scientist</td>\n",
       "      <td>NaN</td>\n",
       "    </tr>\n",
       "    <tr>\n",
       "      <th>28</th>\n",
       "      <td>Lead data scientist</td>\n",
       "      <td>NaN</td>\n",
       "    </tr>\n",
       "    <tr>\n",
       "      <th>104</th>\n",
       "      <td>Data scientist</td>\n",
       "      <td>NaN</td>\n",
       "    </tr>\n",
       "    <tr>\n",
       "      <th>161</th>\n",
       "      <td>Data engineer</td>\n",
       "      <td>NaN</td>\n",
       "    </tr>\n",
       "    <tr>\n",
       "      <th>451</th>\n",
       "      <td>Data architecte</td>\n",
       "      <td>NaN</td>\n",
       "    </tr>\n",
       "    <tr>\n",
       "      <th>599</th>\n",
       "      <td>Data scientist</td>\n",
       "      <td>NaN</td>\n",
       "    </tr>\n",
       "    <tr>\n",
       "      <th>800</th>\n",
       "      <td>Data engineer</td>\n",
       "      <td>NaN</td>\n",
       "    </tr>\n",
       "    <tr>\n",
       "      <th>1122</th>\n",
       "      <td>Data engineer</td>\n",
       "      <td>NaN</td>\n",
       "    </tr>\n",
       "    <tr>\n",
       "      <th>1150</th>\n",
       "      <td>Lead data scientist</td>\n",
       "      <td>NaN</td>\n",
       "    </tr>\n",
       "    <tr>\n",
       "      <th>1251</th>\n",
       "      <td>Lead data scientist</td>\n",
       "      <td>NaN</td>\n",
       "    </tr>\n",
       "    <tr>\n",
       "      <th>1256</th>\n",
       "      <td>Data architecte</td>\n",
       "      <td>NaN</td>\n",
       "    </tr>\n",
       "    <tr>\n",
       "      <th>1333</th>\n",
       "      <td>Data architecte</td>\n",
       "      <td>NaN</td>\n",
       "    </tr>\n",
       "    <tr>\n",
       "      <th>1373</th>\n",
       "      <td>Data scientist</td>\n",
       "      <td>NaN</td>\n",
       "    </tr>\n",
       "    <tr>\n",
       "      <th>1507</th>\n",
       "      <td>Lead data scientist</td>\n",
       "      <td>NaN</td>\n",
       "    </tr>\n",
       "    <tr>\n",
       "      <th>1759</th>\n",
       "      <td>Data scientist</td>\n",
       "      <td>NaN</td>\n",
       "    </tr>\n",
       "    <tr>\n",
       "      <th>1794</th>\n",
       "      <td>Data architecte</td>\n",
       "      <td>NaN</td>\n",
       "    </tr>\n",
       "    <tr>\n",
       "      <th>2085</th>\n",
       "      <td>Lead data scientist</td>\n",
       "      <td>NaN</td>\n",
       "    </tr>\n",
       "    <tr>\n",
       "      <th>2485</th>\n",
       "      <td>Data architecte</td>\n",
       "      <td>NaN</td>\n",
       "    </tr>\n",
       "    <tr>\n",
       "      <th>2498</th>\n",
       "      <td>Data scientist</td>\n",
       "      <td>NaN</td>\n",
       "    </tr>\n",
       "    <tr>\n",
       "      <th>2545</th>\n",
       "      <td>Lead data scientist</td>\n",
       "      <td>NaN</td>\n",
       "    </tr>\n",
       "  </tbody>\n",
       "</table>\n",
       "</div>"
      ],
      "text/plain": [
       "                   Metier  Experience\n",
       "4          Data scientist         NaN\n",
       "28    Lead data scientist         NaN\n",
       "104        Data scientist         NaN\n",
       "161         Data engineer         NaN\n",
       "451       Data architecte         NaN\n",
       "599        Data scientist         NaN\n",
       "800         Data engineer         NaN\n",
       "1122        Data engineer         NaN\n",
       "1150  Lead data scientist         NaN\n",
       "1251  Lead data scientist         NaN\n",
       "1256      Data architecte         NaN\n",
       "1333      Data architecte         NaN\n",
       "1373       Data scientist         NaN\n",
       "1507  Lead data scientist         NaN\n",
       "1759       Data scientist         NaN\n",
       "1794      Data architecte         NaN\n",
       "2085  Lead data scientist         NaN\n",
       "2485      Data architecte         NaN\n",
       "2498       Data scientist         NaN\n",
       "2545  Lead data scientist         NaN"
      ]
     },
     "execution_count": 7,
     "metadata": {},
     "output_type": "execute_result"
    }
   ],
   "source": [
    "# Affichons les premières lignes vides afin de vérifier par la suite si les modifications ont été faites correctement\n",
    "df[[\"Metier\",\"Experience\"]].loc[(df[\"Experience\"].isnull())].head(20)"
   ]
  },
  {
   "cell_type": "code",
   "execution_count": 8,
   "metadata": {},
   "outputs": [
    {
     "data": {
      "text/plain": [
       "2.0"
      ]
     },
     "execution_count": 8,
     "metadata": {},
     "output_type": "execute_result"
    }
   ],
   "source": [
    "# Affichons la médiane pour les data scientists\n",
    "df[\"Experience\"].loc[df[\"Metier\"]==\"Data scientist\"].median()\n",
    "        "
   ]
  },
  {
   "cell_type": "code",
   "execution_count": 9,
   "metadata": {},
   "outputs": [
    {
     "data": {
      "text/plain": [
       "3.5"
      ]
     },
     "execution_count": 9,
     "metadata": {},
     "output_type": "execute_result"
    }
   ],
   "source": [
    "# Affichons la médiane pour les lead data scientists\n",
    "df[\"Experience\"].loc[df[\"Metier\"]==\"Lead data scientist\"].median()"
   ]
  },
  {
   "cell_type": "code",
   "execution_count": 10,
   "metadata": {},
   "outputs": [
    {
     "data": {
      "text/plain": [
       "2.5"
      ]
     },
     "execution_count": 10,
     "metadata": {},
     "output_type": "execute_result"
    }
   ],
   "source": [
    "# Affichons la médiane pour les data architectes\n",
    "df[\"Experience\"].loc[df[\"Metier\"]==\"Data architecte\"].median()"
   ]
  },
  {
   "cell_type": "code",
   "execution_count": 11,
   "metadata": {},
   "outputs": [
    {
     "data": {
      "text/plain": [
       "2.984959174903309"
      ]
     },
     "execution_count": 11,
     "metadata": {},
     "output_type": "execute_result"
    }
   ],
   "source": [
    "# Affichons la moyenne pour les data engineers\n",
    "df[\"Experience\"].loc[df[\"Metier\"]==\"Data engineer\"].mean()"
   ]
  },
  {
   "cell_type": "code",
   "execution_count": 12,
   "metadata": {},
   "outputs": [
    {
     "name": "stderr",
     "output_type": "stream",
     "text": [
      "C:\\Users\\Moreau Adrien\\Anaconda3.1\\lib\\site-packages\\pandas\\core\\indexing.py:190: SettingWithCopyWarning: \n",
      "A value is trying to be set on a copy of a slice from a DataFrame\n",
      "\n",
      "See the caveats in the documentation: http://pandas.pydata.org/pandas-docs/stable/indexing.html#indexing-view-versus-copy\n",
      "  self._setitem_with_indexer(indexer, value)\n"
     ]
    }
   ],
   "source": [
    "# Remplaçons maintenant les valeurs manquantes\n",
    "# Pour les data engineer, on arrondit la moyenne avec un chiffre significatif, pour être cohérent avec l'ensemble du dataset\n",
    "df[\"Experience\"].loc[df[\"Metier\"]==\"Data engineer\"] = df[\"Experience\"].fillna(3.0)\n",
    "df[\"Experience\"].loc[df[\"Metier\"]==\"Data scientist\"] = df[\"Experience\"].fillna(2.0)\n",
    "df[\"Experience\"].loc[df[\"Metier\"]==\"Lead data scientist\"] = df[\"Experience\"].fillna(3.5)\n",
    "df[\"Experience\"].loc[df[\"Metier\"]==\"Data architecte\"] = df[\"Experience\"].fillna(3.5)"
   ]
  },
  {
   "cell_type": "code",
   "execution_count": 13,
   "metadata": {},
   "outputs": [
    {
     "data": {
      "text/plain": [
       "Entreprise                                                  Arm\n",
       "Metier                                           Data scientist\n",
       "Technologies    Matlab/Python/C++/numpy/Tensorflow/scikit-learn\n",
       "Diplome                                                     Phd\n",
       "Experience                                                    2\n",
       "Ville                                                  Bordeaux\n",
       "Name: 4, dtype: object"
      ]
     },
     "execution_count": 13,
     "metadata": {},
     "output_type": "execute_result"
    }
   ],
   "source": [
    "# Vérifions que la modification a bien été prise en compte pour un data scientist pris au hasard\n",
    "df.iloc[4,:]"
   ]
  },
  {
   "cell_type": "markdown",
   "metadata": {},
   "source": [
    "La valeur manquante a bien été complétée par 2.0, la médiane"
   ]
  },
  {
   "cell_type": "code",
   "execution_count": 14,
   "metadata": {},
   "outputs": [
    {
     "data": {
      "text/plain": [
       "Entreprise                          JLL\n",
       "Metier                    Data engineer\n",
       "Technologies    C/C++/Java/Python/Linux\n",
       "Diplome                          Master\n",
       "Experience                            3\n",
       "Ville                          Toulouse\n",
       "Name: 161, dtype: object"
      ]
     },
     "execution_count": 14,
     "metadata": {},
     "output_type": "execute_result"
    }
   ],
   "source": [
    "# Vérifions que la modification a bien été prise en compte pour un data engineer pris au hasard\n",
    "df.iloc[161,:]"
   ]
  },
  {
   "cell_type": "markdown",
   "metadata": {},
   "source": [
    "La valeur manquante a bien été complétée par \".0, la moyenne"
   ]
  },
  {
   "cell_type": "code",
   "execution_count": 15,
   "metadata": {},
   "outputs": [
    {
     "data": {
      "text/plain": [
       "Metier\n",
       "Data architecte        0\n",
       "Data engineer          0\n",
       "Data scientist         0\n",
       "Lead data scientist    0\n",
       "Name: Experience, dtype: int64"
      ]
     },
     "execution_count": 15,
     "metadata": {},
     "output_type": "execute_result"
    }
   ],
   "source": [
    "# Vérifions qu'il ne reste plus de valeur manquante\n",
    "df.groupby(\"Metier\")[\"Experience\"].apply(lambda x : x.isnull().sum())"
   ]
  },
  {
   "cell_type": "markdown",
   "metadata": {},
   "source": [
    "Il n'y a plus de donnée manquante. Les transformations ont marché correctement !"
   ]
  },
  {
   "cell_type": "markdown",
   "metadata": {},
   "source": [
    "### 4) Combien d'années d'expériences ont, en moyenne, chacun des profils : le data scientist, le lead data scientist et le data engineer en moyenne?"
   ]
  },
  {
   "cell_type": "code",
   "execution_count": 16,
   "metadata": {},
   "outputs": [
    {
     "data": {
      "text/plain": [
       "Metier\n",
       "Data architecte        3.005888\n",
       "Data engineer          2.985087\n",
       "Data scientist         2.241268\n",
       "Lead data scientist    3.958062\n",
       "Name: Experience, dtype: float64"
      ]
     },
     "execution_count": 16,
     "metadata": {},
     "output_type": "execute_result"
    }
   ],
   "source": [
    "# On fait une aggrégation avec la fonction groupby afin de répondre à la question\n",
    "df.groupby(\"Metier\")[\"Experience\"].mean()"
   ]
  },
  {
   "cell_type": "markdown",
   "metadata": {},
   "source": [
    "Les nombres moyens d'expérience permettent de faire quelques constats qui confirme certaines intuitions qu'on pourrait avoir :\n",
    "- Les lead data scientists sont en moyenne plus expérimentés que les data scientists\n",
    "- Les data architect et lead data scientists sont les plus expérimentés (ce sont en effet des postes où il faut avoir une très bonne connaissance de l'écosystème data"
   ]
  },
  {
   "cell_type": "markdown",
   "metadata": {},
   "source": [
    "### 5) Faire la représentation graphique de votre choix afin de comparer le nombre moyen d'années d'expériences pour chaque métier"
   ]
  },
  {
   "cell_type": "code",
   "execution_count": 17,
   "metadata": {},
   "outputs": [],
   "source": [
    "y = df.groupby(\"Metier\")[\"Experience\"].mean().values\n",
    "x = df.groupby(\"Metier\")[\"Experience\"].mean().index.values"
   ]
  },
  {
   "cell_type": "code",
   "execution_count": 18,
   "metadata": {},
   "outputs": [
    {
     "data": {
      "image/png": "[encoded data removed]",
      "text/plain": [
       "<Figure size 1440x1080 with 1 Axes>"
      ]
     },
     "metadata": {
      "needs_background": "light"
     },
     "output_type": "display_data"
    }
   ],
   "source": [
    "fig, ax = plt.subplots(figsize=(20,15))\n",
    "fig = plt.bar(x, y, tick_label= x, color = [\"darkblue\", \"blue\", \"mediumpurple\", \"violet\"])\n",
    "\n",
    "def autolabel(rects):\n",
    "    for idx,rect in enumerate(rects):\n",
    "        height = rect.get_height()\n",
    "        ax.text(rect.get_x() + rect.get_width()/2., 1.01*height,\n",
    "                y[idx],\n",
    "                ha='center', va='bottom', rotation=0, fontsize=20)\n",
    "\n",
    "autolabel(fig)\n",
    "\n",
    "plt.title(\"Nombre moyen d'années d'expérience par métier\", fontsize = 40)\n",
    "plt.xlabel(\"Métier\", fontsize = 20)\n",
    "plt.ylabel(\"Nombre d'années d'expérience\", fontsize = 20)\n",
    "plt.xticks(fontsize=16)\n",
    "plt.yticks(fontsize=16)\n",
    "plt.show()"
   ]
  },
  {
   "cell_type": "code",
   "execution_count": 19,
   "metadata": {
    "scrolled": true
   },
   "outputs": [
    {
     "data": {
      "image/png": "[encoded data removed]",
      "text/plain": [
       "<Figure size 1440x1080 with 1 Axes>"
      ]
     },
     "metadata": {
      "needs_background": "light"
     },
     "output_type": "display_data"
    }
   ],
   "source": [
    "#Affichons les boxplot Métiers/Expérience afin d'avoir une idée de la distribution de l'expérience pour ces catégories\n",
    "# Pour que ce soit plus lisible, je limite l'expérience de 0 à 10\n",
    "var = 'Metier'\n",
    "data = pd.concat([df['Experience'], df[var]], axis=1)\n",
    "fig, ax = plt.subplots(figsize=(20,15))\n",
    "fig = sb.boxplot(x=var, y=\"Experience\", data=data, showmeans=True)\n",
    "plt.title(\"Boites à moustache de l'expérience par métiers\", fontsize = 40)\n",
    "plt.xlabel(\"Métier\", fontsize = 20)\n",
    "plt.ylabel(\"Nombre d'années d'expérience\", fontsize = 20)\n",
    "plt.xticks(fontsize=16)\n",
    "plt.yticks(fontsize=16)\n",
    "plt.ylim(0, 10)\n",
    "plt.show()"
   ]
  },
  {
   "cell_type": "markdown",
   "metadata": {},
   "source": [
    "On remarque que les médianes sont à chaque fois en dessous des moyennes. Ceci s'explique par la présence d'outliers (avec un grand nombre d'expériences) qui gonflent la moyenne. C'est particulièrement le cas chez les différents métiers sauf pour les data scientists, car ceux-ci évoluent normalement en Lead data scientist avec l'expérience."
   ]
  },
  {
   "cell_type": "markdown",
   "metadata": {},
   "source": [
    "### 6) Transformer la variable continue 'Experience' en une nouvelle variable catégorielle 'Exp_label' à 4 modalités: débutant, confirmé, avancé et expert\n",
    "- Veuillez expliquer votre choix du règle de transformation.  "
   ]
  },
  {
   "cell_type": "code",
   "execution_count": 20,
   "metadata": {},
   "outputs": [
    {
     "data": {
      "text/plain": [
       "count    9582.000000\n",
       "mean        2.814861\n",
       "std         2.703739\n",
       "min         0.000000\n",
       "25%         1.000000\n",
       "50%         2.000000\n",
       "75%         3.500000\n",
       "max        21.000000\n",
       "Name: Experience, dtype: float64"
      ]
     },
     "execution_count": 20,
     "metadata": {},
     "output_type": "execute_result"
    }
   ],
   "source": [
    "# Regardons des informations sur la répartition de la variable Expérience\n",
    "df[\"Experience\"].describe()"
   ]
  },
  {
   "cell_type": "code",
   "execution_count": 21,
   "metadata": {},
   "outputs": [
    {
     "data": {
      "image/png": "[encoded data removed]",
      "text/plain": [
       "<Figure size 1080x720 with 1 Axes>"
      ]
     },
     "metadata": {
      "needs_background": "light"
     },
     "output_type": "display_data"
    }
   ],
   "source": [
    "# Affichons le graphe de répartition de la variable Expérience\n",
    "fig, ax = plt.subplots(figsize=(15,10))\n",
    "plt.title(\"Répartition de l'expérience\", fontsize = 40)\n",
    "sb.distplot(df[\"Experience\"].dropna())\n",
    "plt.show()"
   ]
  },
  {
   "cell_type": "markdown",
   "metadata": {},
   "source": [
    "On a le choix entre faire une catégorisation **à partir de la connaissance métier** (ici, que signifie être débutant, confirmé etc..?) ou faire une catégorisation par rapport à des hypothèses de répartition des classes, indépendemment de leur signification.\n",
    "<br>Dans le deuxième cas, différentes méthodes sont possibles afin de garantir que les classes créées sont un peu près égales :\n",
    "- **La méthode des quantiles :** on obtient alors une équirépartition de la distribution des classes. Les bornes sont alors [1, 2, 3.5]. Cette méthode n'est pas viable ici au vu de la répartition de l'expérience du graphe précédent. (on utiliserait la méthode qcut de pandas) \n",
    "- **La méthode des amplitudes :** on prend (max - min) et on divise par le nombre de classes pour avoir les bornes. Les bornes sont alors [5.25, 10.5,15.75]. Comme ici on a des outliers, et qu'on a une très forte concentration entre 0 et 5 ans, on va se retrouver avec des classes très désequilibrées\n",
    "On va donc faire un **compromis entre ces méthodes**, tout en gardant en tête la signification métier des termes \"débutant\", \"confirmé\", \"avancé\" et \"expert\". On fait le choix suivant :\n",
    "**<br>0 < Débutant < 2\n",
    "<br>2 <= Confirmé < 5\n",
    "<br>5 <= Avancé < 10\n",
    "<br>10 <= Expert**\n",
    "<br>Ceci correspond de plus à une définition classique des niveaux de seniorité"
   ]
  },
  {
   "cell_type": "code",
   "execution_count": 22,
   "metadata": {},
   "outputs": [],
   "source": [
    "# On utilise la fonction cut qui permet de faire le découpage voulu selon des bornes que l'on définit\n",
    "bornes = [0,2,5,10,22]\n",
    "df[\"Cat_Experience\"]=pd.cut(df[\"Experience\"], bornes, labels=[\"Debutant\",\"Confirme\", \"Avance\", \"Expert\"], right = False)"
   ]
  },
  {
   "cell_type": "code",
   "execution_count": 23,
   "metadata": {},
   "outputs": [
    {
     "data": {
      "text/html": [
       "<div>\n",
       "<style scoped>\n",
       "    .dataframe tbody tr th:only-of-type {\n",
       "        vertical-align: middle;\n",
       "    }\n",
       "\n",
       "    .dataframe tbody tr th {\n",
       "        vertical-align: top;\n",
       "    }\n",
       "\n",
       "    .dataframe thead th {\n",
       "        text-align: right;\n",
       "    }\n",
       "</style>\n",
       "<table border=\"1\" class=\"dataframe\">\n",
       "  <thead>\n",
       "    <tr style=\"text-align: right;\">\n",
       "      <th></th>\n",
       "      <th>Entreprise</th>\n",
       "      <th>Metier</th>\n",
       "      <th>Technologies</th>\n",
       "      <th>Diplome</th>\n",
       "      <th>Experience</th>\n",
       "      <th>Ville</th>\n",
       "      <th>Cat_Experience</th>\n",
       "    </tr>\n",
       "  </thead>\n",
       "  <tbody>\n",
       "    <tr>\n",
       "      <th>0</th>\n",
       "      <td>Sanofi</td>\n",
       "      <td>Data scientist</td>\n",
       "      <td>Matlab/Python/Pyspark/Scikit-learn/Tensorflow</td>\n",
       "      <td>Master</td>\n",
       "      <td>1.0</td>\n",
       "      <td>Paris</td>\n",
       "      <td>Debutant</td>\n",
       "    </tr>\n",
       "    <tr>\n",
       "      <th>1</th>\n",
       "      <td>Massachusetts General Hospital(MGH)</td>\n",
       "      <td>Data architecte</td>\n",
       "      <td>Python/Java/Scala/MongoDB</td>\n",
       "      <td>Master</td>\n",
       "      <td>3.0</td>\n",
       "      <td>Marseille</td>\n",
       "      <td>Confirme</td>\n",
       "    </tr>\n",
       "    <tr>\n",
       "      <th>2</th>\n",
       "      <td>Delve</td>\n",
       "      <td>Lead data scientist</td>\n",
       "      <td>SPSS/SQL/Teradata/R/Python/Tensorflow/scikit-l...</td>\n",
       "      <td>Master</td>\n",
       "      <td>3.0</td>\n",
       "      <td>Nantes</td>\n",
       "      <td>Confirme</td>\n",
       "    </tr>\n",
       "    <tr>\n",
       "      <th>3</th>\n",
       "      <td>Ann &amp; Robert H. Lurie Children’s Hospital of C...</td>\n",
       "      <td>Data scientist</td>\n",
       "      <td>C/C++/Java/Python</td>\n",
       "      <td>Master</td>\n",
       "      <td>1.5</td>\n",
       "      <td>Marseille</td>\n",
       "      <td>Debutant</td>\n",
       "    </tr>\n",
       "    <tr>\n",
       "      <th>4</th>\n",
       "      <td>Arm</td>\n",
       "      <td>Data scientist</td>\n",
       "      <td>Matlab/Python/C++/numpy/Tensorflow/scikit-learn</td>\n",
       "      <td>Phd</td>\n",
       "      <td>2.0</td>\n",
       "      <td>Bordeaux</td>\n",
       "      <td>Confirme</td>\n",
       "    </tr>\n",
       "    <tr>\n",
       "      <th>5</th>\n",
       "      <td>S&amp;P Global Ratings</td>\n",
       "      <td>Lead data scientist</td>\n",
       "      <td>VBA/Python/Excel/R</td>\n",
       "      <td>Master</td>\n",
       "      <td>6.0</td>\n",
       "      <td>Lille</td>\n",
       "      <td>Avance</td>\n",
       "    </tr>\n",
       "    <tr>\n",
       "      <th>6</th>\n",
       "      <td>NVIDIA</td>\n",
       "      <td>Data scientist</td>\n",
       "      <td>Excel/VBA/R/Python/PySpark</td>\n",
       "      <td>Bachelor</td>\n",
       "      <td>0.0</td>\n",
       "      <td>Lille</td>\n",
       "      <td>Debutant</td>\n",
       "    </tr>\n",
       "    <tr>\n",
       "      <th>7</th>\n",
       "      <td>Cedars-Sinai Medical Center</td>\n",
       "      <td>Data scientist</td>\n",
       "      <td>Java/C/C++/R/Python</td>\n",
       "      <td>Bachelor</td>\n",
       "      <td>4.0</td>\n",
       "      <td>Toulouse</td>\n",
       "      <td>Confirme</td>\n",
       "    </tr>\n",
       "    <tr>\n",
       "      <th>8</th>\n",
       "      <td>Fibroblast</td>\n",
       "      <td>Data architecte</td>\n",
       "      <td>Java/Linux/Docker</td>\n",
       "      <td>Bachelor</td>\n",
       "      <td>8.0</td>\n",
       "      <td>Paris</td>\n",
       "      <td>Avance</td>\n",
       "    </tr>\n",
       "    <tr>\n",
       "      <th>9</th>\n",
       "      <td>General Motors</td>\n",
       "      <td>Data engineer</td>\n",
       "      <td>Python/Java/Linux/GNU</td>\n",
       "      <td>Master</td>\n",
       "      <td>5.0</td>\n",
       "      <td>Toulouse</td>\n",
       "      <td>Avance</td>\n",
       "    </tr>\n",
       "    <tr>\n",
       "      <th>10</th>\n",
       "      <td>KPMG</td>\n",
       "      <td>Data engineer</td>\n",
       "      <td>Hadoop/Hive/SQL/MariaDB</td>\n",
       "      <td>Master</td>\n",
       "      <td>0.5</td>\n",
       "      <td>Bordeaux</td>\n",
       "      <td>Debutant</td>\n",
       "    </tr>\n",
       "    <tr>\n",
       "      <th>11</th>\n",
       "      <td>R&amp;D Partners</td>\n",
       "      <td>Lead data scientist</td>\n",
       "      <td>Python/R/machine learning/Excel/VBA/C++</td>\n",
       "      <td>Master</td>\n",
       "      <td>3.0</td>\n",
       "      <td>Rouen</td>\n",
       "      <td>Confirme</td>\n",
       "    </tr>\n",
       "    <tr>\n",
       "      <th>12</th>\n",
       "      <td>ERPi</td>\n",
       "      <td>Data architecte</td>\n",
       "      <td>Python/Spark/Hive/Hadoop</td>\n",
       "      <td>Phd</td>\n",
       "      <td>3.0</td>\n",
       "      <td>Bordeaux</td>\n",
       "      <td>Confirme</td>\n",
       "    </tr>\n",
       "    <tr>\n",
       "      <th>13</th>\n",
       "      <td>Ball Aerospace</td>\n",
       "      <td>Data architecte</td>\n",
       "      <td>Python/AWS/Docker</td>\n",
       "      <td>Master</td>\n",
       "      <td>0.0</td>\n",
       "      <td>Lyon</td>\n",
       "      <td>Debutant</td>\n",
       "    </tr>\n",
       "    <tr>\n",
       "      <th>14</th>\n",
       "      <td>Massachusetts General Hospital(MGH)</td>\n",
       "      <td>Data scientist</td>\n",
       "      <td>Python/Tensorflow/scikit-learn/Deep learning/R</td>\n",
       "      <td>Phd</td>\n",
       "      <td>2.0</td>\n",
       "      <td>Paris</td>\n",
       "      <td>Confirme</td>\n",
       "    </tr>\n",
       "    <tr>\n",
       "      <th>15</th>\n",
       "      <td>Benchling</td>\n",
       "      <td>Data engineer</td>\n",
       "      <td>Python/Pyspark/Spark</td>\n",
       "      <td>Master</td>\n",
       "      <td>3.0</td>\n",
       "      <td>Lyon</td>\n",
       "      <td>Confirme</td>\n",
       "    </tr>\n",
       "    <tr>\n",
       "      <th>16</th>\n",
       "      <td>The Boston Consulting Group</td>\n",
       "      <td>Data architecte</td>\n",
       "      <td>C/C++/Java/Python</td>\n",
       "      <td>Master</td>\n",
       "      <td>0.5</td>\n",
       "      <td>Lille</td>\n",
       "      <td>Debutant</td>\n",
       "    </tr>\n",
       "    <tr>\n",
       "      <th>17</th>\n",
       "      <td>Feeding America</td>\n",
       "      <td>Data scientist</td>\n",
       "      <td>Python/Tensorflow/scikit-learn/Deep learning/R</td>\n",
       "      <td>Phd</td>\n",
       "      <td>3.0</td>\n",
       "      <td>Toulouse</td>\n",
       "      <td>Confirme</td>\n",
       "    </tr>\n",
       "    <tr>\n",
       "      <th>18</th>\n",
       "      <td>Natera</td>\n",
       "      <td>Data engineer</td>\n",
       "      <td>Python/Pyspark/Spark</td>\n",
       "      <td>Master</td>\n",
       "      <td>3.0</td>\n",
       "      <td>Lille</td>\n",
       "      <td>Confirme</td>\n",
       "    </tr>\n",
       "    <tr>\n",
       "      <th>19</th>\n",
       "      <td>Ball Aerospace</td>\n",
       "      <td>Data engineer</td>\n",
       "      <td>Docker/PostgreSQL/Elasticsearch/Kibana/MongoDB</td>\n",
       "      <td>No diploma</td>\n",
       "      <td>8.0</td>\n",
       "      <td>Lyon</td>\n",
       "      <td>Avance</td>\n",
       "    </tr>\n",
       "  </tbody>\n",
       "</table>\n",
       "</div>"
      ],
      "text/plain": [
       "                                           Entreprise               Metier  \\\n",
       "0                                              Sanofi       Data scientist   \n",
       "1                 Massachusetts General Hospital(MGH)      Data architecte   \n",
       "2                                               Delve  Lead data scientist   \n",
       "3   Ann & Robert H. Lurie Children’s Hospital of C...       Data scientist   \n",
       "4                                                 Arm       Data scientist   \n",
       "5                                  S&P Global Ratings  Lead data scientist   \n",
       "6                                              NVIDIA       Data scientist   \n",
       "7                         Cedars-Sinai Medical Center       Data scientist   \n",
       "8                                          Fibroblast      Data architecte   \n",
       "9                                      General Motors        Data engineer   \n",
       "10                                               KPMG        Data engineer   \n",
       "11                                       R&D Partners  Lead data scientist   \n",
       "12                                               ERPi      Data architecte   \n",
       "13                                     Ball Aerospace      Data architecte   \n",
       "14                Massachusetts General Hospital(MGH)       Data scientist   \n",
       "15                                          Benchling        Data engineer   \n",
       "16                        The Boston Consulting Group      Data architecte   \n",
       "17                                    Feeding America       Data scientist   \n",
       "18                                             Natera        Data engineer   \n",
       "19                                     Ball Aerospace        Data engineer   \n",
       "\n",
       "                                         Technologies     Diplome  Experience  \\\n",
       "0       Matlab/Python/Pyspark/Scikit-learn/Tensorflow      Master         1.0   \n",
       "1                           Python/Java/Scala/MongoDB      Master         3.0   \n",
       "2   SPSS/SQL/Teradata/R/Python/Tensorflow/scikit-l...      Master         3.0   \n",
       "3                                   C/C++/Java/Python      Master         1.5   \n",
       "4     Matlab/Python/C++/numpy/Tensorflow/scikit-learn         Phd         2.0   \n",
       "5                                  VBA/Python/Excel/R      Master         6.0   \n",
       "6                          Excel/VBA/R/Python/PySpark    Bachelor         0.0   \n",
       "7                                 Java/C/C++/R/Python    Bachelor         4.0   \n",
       "8                                   Java/Linux/Docker    Bachelor         8.0   \n",
       "9                               Python/Java/Linux/GNU      Master         5.0   \n",
       "10                            Hadoop/Hive/SQL/MariaDB      Master         0.5   \n",
       "11            Python/R/machine learning/Excel/VBA/C++      Master         3.0   \n",
       "12                           Python/Spark/Hive/Hadoop         Phd         3.0   \n",
       "13                                  Python/AWS/Docker      Master         0.0   \n",
       "14     Python/Tensorflow/scikit-learn/Deep learning/R         Phd         2.0   \n",
       "15                               Python/Pyspark/Spark      Master         3.0   \n",
       "16                                  C/C++/Java/Python      Master         0.5   \n",
       "17     Python/Tensorflow/scikit-learn/Deep learning/R         Phd         3.0   \n",
       "18                               Python/Pyspark/Spark      Master         3.0   \n",
       "19     Docker/PostgreSQL/Elasticsearch/Kibana/MongoDB  No diploma         8.0   \n",
       "\n",
       "        Ville Cat_Experience  \n",
       "0       Paris       Debutant  \n",
       "1   Marseille       Confirme  \n",
       "2      Nantes       Confirme  \n",
       "3   Marseille       Debutant  \n",
       "4    Bordeaux       Confirme  \n",
       "5       Lille         Avance  \n",
       "6       Lille       Debutant  \n",
       "7    Toulouse       Confirme  \n",
       "8       Paris         Avance  \n",
       "9    Toulouse         Avance  \n",
       "10   Bordeaux       Debutant  \n",
       "11      Rouen       Confirme  \n",
       "12   Bordeaux       Confirme  \n",
       "13       Lyon       Debutant  \n",
       "14      Paris       Confirme  \n",
       "15       Lyon       Confirme  \n",
       "16      Lille       Debutant  \n",
       "17   Toulouse       Confirme  \n",
       "18      Lille       Confirme  \n",
       "19       Lyon         Avance  "
      ]
     },
     "execution_count": 23,
     "metadata": {},
     "output_type": "execute_result"
    }
   ],
   "source": [
    "# Vérifions si ça a bien fonctionné en affichant la tête du dataframe\n",
    "df.head(20)"
   ]
  },
  {
   "cell_type": "markdown",
   "metadata": {},
   "source": [
    "La transformation semble avoir marché correctement"
   ]
  },
  {
   "cell_type": "code",
   "execution_count": 24,
   "metadata": {},
   "outputs": [
    {
     "data": {
      "text/plain": [
       "Confirme    4156\n",
       "Debutant    3834\n",
       "Avance      1329\n",
       "Expert       263\n",
       "Name: Cat_Experience, dtype: int64"
      ]
     },
     "execution_count": 24,
     "metadata": {},
     "output_type": "execute_result"
    }
   ],
   "source": [
    "# Regardons la répartition selon les différentes classes\n",
    "df[\"Cat_Experience\"].value_counts()"
   ]
  },
  {
   "cell_type": "markdown",
   "metadata": {},
   "source": [
    "Le compromis entre amplitude des classes et effectif semble satisfaisante ! On peut supprimer la variable expériance."
   ]
  },
  {
   "cell_type": "code",
   "execution_count": 25,
   "metadata": {},
   "outputs": [],
   "source": [
    "# Supression de l'ancienne variable Experience\n",
    "df = df.drop(\"Experience\", axis=1)"
   ]
  },
  {
   "cell_type": "markdown",
   "metadata": {},
   "source": [
    "### 7) Quelles sont les 5 technologies les plus utilisées? Faites un graphique"
   ]
  },
  {
   "cell_type": "markdown",
   "metadata": {},
   "source": [
    "La colonne Technologie n'est pas exploitable en l'état. Nous allons créér une colonne par technologie, et remplir par 0 (ne possède pas la compétence) ou 1 (possède la compétence). Ceci va augmenter le nombre de features mais c'est pour moi la meilleure façon d'encoder cette colonne. Dans tous les cas nous utiliserons par la suite get_dummies qui transforme les variables quantitatives de cette façon.\n",
    "<br>Les étapes de cette transformation sont :\n",
    "- Découper la colonne Technologies avec le séparateur \"/\"\n",
    "- Créer une liste des technologies, supprimer les valeurs aberrantes et les doublons\n",
    "- Créer un nouveau dataframe au format voulu et le fusionner avec df\n",
    "- Réponse à la question posée"
   ]
  },
  {
   "cell_type": "markdown",
   "metadata": {},
   "source": [
    "**- Découper la colonne Technologies avec le séparateur \"/\"**"
   ]
  },
  {
   "cell_type": "code",
   "execution_count": 26,
   "metadata": {
    "scrolled": true
   },
   "outputs": [
    {
     "data": {
      "text/html": [
       "<div>\n",
       "<style scoped>\n",
       "    .dataframe tbody tr th:only-of-type {\n",
       "        vertical-align: middle;\n",
       "    }\n",
       "\n",
       "    .dataframe tbody tr th {\n",
       "        vertical-align: top;\n",
       "    }\n",
       "\n",
       "    .dataframe thead th {\n",
       "        text-align: right;\n",
       "    }\n",
       "</style>\n",
       "<table border=\"1\" class=\"dataframe\">\n",
       "  <thead>\n",
       "    <tr style=\"text-align: right;\">\n",
       "      <th></th>\n",
       "      <th>0</th>\n",
       "      <th>1</th>\n",
       "      <th>2</th>\n",
       "      <th>3</th>\n",
       "      <th>4</th>\n",
       "      <th>5</th>\n",
       "      <th>6</th>\n",
       "    </tr>\n",
       "  </thead>\n",
       "  <tbody>\n",
       "    <tr>\n",
       "      <th>0</th>\n",
       "      <td>Matlab</td>\n",
       "      <td>Python</td>\n",
       "      <td>Pyspark</td>\n",
       "      <td>Scikit-learn</td>\n",
       "      <td>Tensorflow</td>\n",
       "      <td>None</td>\n",
       "      <td>None</td>\n",
       "    </tr>\n",
       "    <tr>\n",
       "      <th>1</th>\n",
       "      <td>Python</td>\n",
       "      <td>Java</td>\n",
       "      <td>Scala</td>\n",
       "      <td>MongoDB</td>\n",
       "      <td>None</td>\n",
       "      <td>None</td>\n",
       "      <td>None</td>\n",
       "    </tr>\n",
       "    <tr>\n",
       "      <th>2</th>\n",
       "      <td>SPSS</td>\n",
       "      <td>SQL</td>\n",
       "      <td>Teradata</td>\n",
       "      <td>R</td>\n",
       "      <td>Python</td>\n",
       "      <td>Tensorflow</td>\n",
       "      <td>scikit-learn</td>\n",
       "    </tr>\n",
       "    <tr>\n",
       "      <th>3</th>\n",
       "      <td>C</td>\n",
       "      <td>C++</td>\n",
       "      <td>Java</td>\n",
       "      <td>Python</td>\n",
       "      <td>None</td>\n",
       "      <td>None</td>\n",
       "      <td>None</td>\n",
       "    </tr>\n",
       "    <tr>\n",
       "      <th>4</th>\n",
       "      <td>Matlab</td>\n",
       "      <td>Python</td>\n",
       "      <td>C++</td>\n",
       "      <td>numpy</td>\n",
       "      <td>Tensorflow</td>\n",
       "      <td>scikit-learn</td>\n",
       "      <td>None</td>\n",
       "    </tr>\n",
       "  </tbody>\n",
       "</table>\n",
       "</div>"
      ],
      "text/plain": [
       "        0       1         2             3           4             5  \\\n",
       "0  Matlab  Python   Pyspark  Scikit-learn  Tensorflow          None   \n",
       "1  Python    Java     Scala       MongoDB        None          None   \n",
       "2    SPSS     SQL  Teradata             R      Python    Tensorflow   \n",
       "3       C     C++      Java        Python        None          None   \n",
       "4  Matlab  Python       C++         numpy  Tensorflow  scikit-learn   \n",
       "\n",
       "              6  \n",
       "0          None  \n",
       "1          None  \n",
       "2  scikit-learn  \n",
       "3          None  \n",
       "4          None  "
      ]
     },
     "execution_count": 26,
     "metadata": {},
     "output_type": "execute_result"
    }
   ],
   "source": [
    "# Nous allons faire une première étape intermédiaire consistant à faire un split de la colonne selon le séparateur \"/\"\n",
    "df_techno = df[\"Technologies\"].str.split(\"/\", expand = True)\n",
    "df_techno.head()"
   ]
  },
  {
   "cell_type": "markdown",
   "metadata": {},
   "source": [
    "**- Créer une liste des technologies, supprimer les valeurs aberrantes et les doublons**"
   ]
  },
  {
   "cell_type": "code",
   "execution_count": 27,
   "metadata": {},
   "outputs": [
    {
     "data": {
      "text/plain": [
       "['Matlab',\n",
       " 'Python',\n",
       " 'Pyspark',\n",
       " 'Scikit-learn',\n",
       " 'Tensorflow',\n",
       " 'Java',\n",
       " 'Scala',\n",
       " 'MongoDB',\n",
       " 'SPSS',\n",
       " 'SQL',\n",
       " 'Teradata',\n",
       " 'R',\n",
       " 'scikit-learn',\n",
       " 'C',\n",
       " 'C++',\n",
       " 'numpy',\n",
       " 'VBA',\n",
       " 'Excel',\n",
       " 'PySpark',\n",
       " 'Linux',\n",
       " 'Docker',\n",
       " 'GNU',\n",
       " 'Hadoop',\n",
       " 'Hive',\n",
       " 'MariaDB',\n",
       " 'machine learning',\n",
       " 'Spark',\n",
       " 'AWS',\n",
       " 'Deep learning',\n",
       " 'PostgreSQL',\n",
       " 'Elasticsearch',\n",
       " 'Kibana',\n",
       " 'HDFS',\n",
       " 'Yarn',\n",
       " 'Microsoft Azure',\n",
       " 'Redshift',\n",
       " 'SAS',\n",
       " 'Machine learning',\n",
       " 'Anglais',\n",
       " 'anglais',\n",
       " 'AI',\n",
       " 'Scoring',\n",
       " 'Perl',\n",
       " 'Ruby',\n",
       " 'Pycharm',\n",
       " 'Vertica',\n",
       " 'Tableau',\n",
       " '',\n",
       " 'Big data',\n",
       " 'Kafka',\n",
       " 'ORACLE',\n",
       " 'MySQL',\n",
       " 'Cassandra',\n",
       " 'NoSQL',\n",
       " 'Matplotlib',\n",
       " 'Map-Reduce',\n",
       " 'PIG',\n",
       " 'HBASE',\n",
       " 'Windows',\n",
       " 'NoSQ',\n",
       " 'Hadoop(HDFS)']"
      ]
     },
     "execution_count": 27,
     "metadata": {},
     "output_type": "execute_result"
    }
   ],
   "source": [
    "liste_technologies = []\n",
    "for i in df_techno.index:\n",
    "    for j in df_techno.columns.values:\n",
    "        if (df_techno.iloc[i,j] not in liste_technologies) & (df_techno.iloc[i,j] != None)  :\n",
    "            liste_technologies.append(df_techno.iloc[i,j])\n",
    "liste_technologies"
   ]
  },
  {
   "cell_type": "markdown",
   "metadata": {},
   "source": [
    "On constate des anomalies :\n",
    "- Anglais apparait 2 fois, avec et sans majuscule. Elle ne correspond de plus pas à une technologie. Je décide de la supprimer\n",
    "- Hadoop apparait 2 fois : on considérera que c'est une seule et même compétence\n",
    "- Il apparait NoSQL et NoSQ qui semble être une faute de frappe : à mettre dans une seule et même compétence\n",
    "- Le string '' est à supprimer"
   ]
  },
  {
   "cell_type": "code",
   "execution_count": 28,
   "metadata": {},
   "outputs": [],
   "source": [
    "d = {'NoSQ':'NoSQL','Hadoop(HDFS)':'Hadoop', 'anglais': None, 'Anglais': None, '': None}\n",
    "df_techno = df_techno.replace(d)"
   ]
  },
  {
   "cell_type": "code",
   "execution_count": 29,
   "metadata": {
    "scrolled": true
   },
   "outputs": [
    {
     "data": {
      "text/plain": [
       "['Matlab',\n",
       " 'Python',\n",
       " 'Pyspark',\n",
       " 'Scikit-learn',\n",
       " 'Tensorflow',\n",
       " 'Java',\n",
       " 'Scala',\n",
       " 'MongoDB',\n",
       " 'SPSS',\n",
       " 'SQL',\n",
       " 'Teradata',\n",
       " 'R',\n",
       " 'scikit-learn',\n",
       " 'C',\n",
       " 'C++',\n",
       " 'numpy',\n",
       " 'VBA',\n",
       " 'Excel',\n",
       " 'PySpark',\n",
       " 'Linux',\n",
       " 'Docker',\n",
       " 'GNU',\n",
       " 'Hadoop',\n",
       " 'Hive',\n",
       " 'MariaDB',\n",
       " 'machine learning',\n",
       " 'Spark',\n",
       " 'AWS',\n",
       " 'Deep learning',\n",
       " 'PostgreSQL',\n",
       " 'Elasticsearch',\n",
       " 'Kibana',\n",
       " 'HDFS',\n",
       " 'Yarn',\n",
       " 'Microsoft Azure',\n",
       " 'Redshift',\n",
       " 'SAS',\n",
       " 'Machine learning',\n",
       " 'AI',\n",
       " 'Scoring',\n",
       " 'Perl',\n",
       " 'Ruby',\n",
       " 'Pycharm',\n",
       " 'Vertica',\n",
       " 'Tableau',\n",
       " 'Big data',\n",
       " 'Kafka',\n",
       " 'ORACLE',\n",
       " 'MySQL',\n",
       " 'Cassandra',\n",
       " 'NoSQL',\n",
       " 'Matplotlib',\n",
       " 'Map-Reduce',\n",
       " 'PIG',\n",
       " 'HBASE',\n",
       " 'Windows']"
      ]
     },
     "execution_count": 29,
     "metadata": {},
     "output_type": "execute_result"
    }
   ],
   "source": [
    "liste_technologies = []\n",
    "for i in df_techno.index:\n",
    "    for j in df_techno.columns.values:\n",
    "        if (df_techno.iloc[i,j] not in liste_technologies) & (df_techno.iloc[i,j] != None)  :\n",
    "            liste_technologies.append(df_techno.iloc[i,j])\n",
    "liste_technologies"
   ]
  },
  {
   "cell_type": "code",
   "execution_count": 30,
   "metadata": {},
   "outputs": [
    {
     "data": {
      "text/plain": [
       "56"
      ]
     },
     "execution_count": 30,
     "metadata": {},
     "output_type": "execute_result"
    }
   ],
   "source": [
    "len(liste_technologies)"
   ]
  },
  {
   "cell_type": "markdown",
   "metadata": {},
   "source": [
    "**- Créer un nouveau dataframe au format voulu et le fusionner avec df**"
   ]
  },
  {
   "cell_type": "code",
   "execution_count": 31,
   "metadata": {},
   "outputs": [],
   "source": [
    "# Créons la nouvelle matrice de technos\n",
    "matrix_techno = np.zeros((9582,56), dtype = np.int8)\n",
    "\n",
    "for p in range(56):\n",
    "    for n in range(9582):\n",
    "        for i in range(7):\n",
    "            if df_techno.iloc[n,i] == liste_technologies[p]:\n",
    "                matrix_techno[n,p] = 1   "
   ]
  },
  {
   "cell_type": "code",
   "execution_count": 32,
   "metadata": {},
   "outputs": [],
   "source": [
    "df_techno_final = pd.DataFrame(matrix_techno, columns = liste_technologies)"
   ]
  },
  {
   "cell_type": "code",
   "execution_count": 33,
   "metadata": {},
   "outputs": [
    {
     "data": {
      "text/html": [
       "<div>\n",
       "<style scoped>\n",
       "    .dataframe tbody tr th:only-of-type {\n",
       "        vertical-align: middle;\n",
       "    }\n",
       "\n",
       "    .dataframe tbody tr th {\n",
       "        vertical-align: top;\n",
       "    }\n",
       "\n",
       "    .dataframe thead th {\n",
       "        text-align: right;\n",
       "    }\n",
       "</style>\n",
       "<table border=\"1\" class=\"dataframe\">\n",
       "  <thead>\n",
       "    <tr style=\"text-align: right;\">\n",
       "      <th></th>\n",
       "      <th>Matlab</th>\n",
       "      <th>Python</th>\n",
       "      <th>Pyspark</th>\n",
       "      <th>Scikit-learn</th>\n",
       "      <th>Tensorflow</th>\n",
       "      <th>Java</th>\n",
       "      <th>Scala</th>\n",
       "      <th>MongoDB</th>\n",
       "      <th>SPSS</th>\n",
       "      <th>SQL</th>\n",
       "      <th>...</th>\n",
       "      <th>Kafka</th>\n",
       "      <th>ORACLE</th>\n",
       "      <th>MySQL</th>\n",
       "      <th>Cassandra</th>\n",
       "      <th>NoSQL</th>\n",
       "      <th>Matplotlib</th>\n",
       "      <th>Map-Reduce</th>\n",
       "      <th>PIG</th>\n",
       "      <th>HBASE</th>\n",
       "      <th>Windows</th>\n",
       "    </tr>\n",
       "  </thead>\n",
       "  <tbody>\n",
       "    <tr>\n",
       "      <th>0</th>\n",
       "      <td>1</td>\n",
       "      <td>1</td>\n",
       "      <td>1</td>\n",
       "      <td>1</td>\n",
       "      <td>1</td>\n",
       "      <td>0</td>\n",
       "      <td>0</td>\n",
       "      <td>0</td>\n",
       "      <td>0</td>\n",
       "      <td>0</td>\n",
       "      <td>...</td>\n",
       "      <td>0</td>\n",
       "      <td>0</td>\n",
       "      <td>0</td>\n",
       "      <td>0</td>\n",
       "      <td>0</td>\n",
       "      <td>0</td>\n",
       "      <td>0</td>\n",
       "      <td>0</td>\n",
       "      <td>0</td>\n",
       "      <td>0</td>\n",
       "    </tr>\n",
       "    <tr>\n",
       "      <th>1</th>\n",
       "      <td>0</td>\n",
       "      <td>1</td>\n",
       "      <td>0</td>\n",
       "      <td>0</td>\n",
       "      <td>0</td>\n",
       "      <td>1</td>\n",
       "      <td>1</td>\n",
       "      <td>1</td>\n",
       "      <td>0</td>\n",
       "      <td>0</td>\n",
       "      <td>...</td>\n",
       "      <td>0</td>\n",
       "      <td>0</td>\n",
       "      <td>0</td>\n",
       "      <td>0</td>\n",
       "      <td>0</td>\n",
       "      <td>0</td>\n",
       "      <td>0</td>\n",
       "      <td>0</td>\n",
       "      <td>0</td>\n",
       "      <td>0</td>\n",
       "    </tr>\n",
       "    <tr>\n",
       "      <th>2</th>\n",
       "      <td>0</td>\n",
       "      <td>1</td>\n",
       "      <td>0</td>\n",
       "      <td>0</td>\n",
       "      <td>1</td>\n",
       "      <td>0</td>\n",
       "      <td>0</td>\n",
       "      <td>0</td>\n",
       "      <td>1</td>\n",
       "      <td>1</td>\n",
       "      <td>...</td>\n",
       "      <td>0</td>\n",
       "      <td>0</td>\n",
       "      <td>0</td>\n",
       "      <td>0</td>\n",
       "      <td>0</td>\n",
       "      <td>0</td>\n",
       "      <td>0</td>\n",
       "      <td>0</td>\n",
       "      <td>0</td>\n",
       "      <td>0</td>\n",
       "    </tr>\n",
       "    <tr>\n",
       "      <th>3</th>\n",
       "      <td>0</td>\n",
       "      <td>1</td>\n",
       "      <td>0</td>\n",
       "      <td>0</td>\n",
       "      <td>0</td>\n",
       "      <td>1</td>\n",
       "      <td>0</td>\n",
       "      <td>0</td>\n",
       "      <td>0</td>\n",
       "      <td>0</td>\n",
       "      <td>...</td>\n",
       "      <td>0</td>\n",
       "      <td>0</td>\n",
       "      <td>0</td>\n",
       "      <td>0</td>\n",
       "      <td>0</td>\n",
       "      <td>0</td>\n",
       "      <td>0</td>\n",
       "      <td>0</td>\n",
       "      <td>0</td>\n",
       "      <td>0</td>\n",
       "    </tr>\n",
       "    <tr>\n",
       "      <th>4</th>\n",
       "      <td>1</td>\n",
       "      <td>1</td>\n",
       "      <td>0</td>\n",
       "      <td>0</td>\n",
       "      <td>1</td>\n",
       "      <td>0</td>\n",
       "      <td>0</td>\n",
       "      <td>0</td>\n",
       "      <td>0</td>\n",
       "      <td>0</td>\n",
       "      <td>...</td>\n",
       "      <td>0</td>\n",
       "      <td>0</td>\n",
       "      <td>0</td>\n",
       "      <td>0</td>\n",
       "      <td>0</td>\n",
       "      <td>0</td>\n",
       "      <td>0</td>\n",
       "      <td>0</td>\n",
       "      <td>0</td>\n",
       "      <td>0</td>\n",
       "    </tr>\n",
       "    <tr>\n",
       "      <th>5</th>\n",
       "      <td>0</td>\n",
       "      <td>1</td>\n",
       "      <td>0</td>\n",
       "      <td>0</td>\n",
       "      <td>0</td>\n",
       "      <td>0</td>\n",
       "      <td>0</td>\n",
       "      <td>0</td>\n",
       "      <td>0</td>\n",
       "      <td>0</td>\n",
       "      <td>...</td>\n",
       "      <td>0</td>\n",
       "      <td>0</td>\n",
       "      <td>0</td>\n",
       "      <td>0</td>\n",
       "      <td>0</td>\n",
       "      <td>0</td>\n",
       "      <td>0</td>\n",
       "      <td>0</td>\n",
       "      <td>0</td>\n",
       "      <td>0</td>\n",
       "    </tr>\n",
       "    <tr>\n",
       "      <th>6</th>\n",
       "      <td>0</td>\n",
       "      <td>1</td>\n",
       "      <td>0</td>\n",
       "      <td>0</td>\n",
       "      <td>0</td>\n",
       "      <td>0</td>\n",
       "      <td>0</td>\n",
       "      <td>0</td>\n",
       "      <td>0</td>\n",
       "      <td>0</td>\n",
       "      <td>...</td>\n",
       "      <td>0</td>\n",
       "      <td>0</td>\n",
       "      <td>0</td>\n",
       "      <td>0</td>\n",
       "      <td>0</td>\n",
       "      <td>0</td>\n",
       "      <td>0</td>\n",
       "      <td>0</td>\n",
       "      <td>0</td>\n",
       "      <td>0</td>\n",
       "    </tr>\n",
       "    <tr>\n",
       "      <th>7</th>\n",
       "      <td>0</td>\n",
       "      <td>1</td>\n",
       "      <td>0</td>\n",
       "      <td>0</td>\n",
       "      <td>0</td>\n",
       "      <td>1</td>\n",
       "      <td>0</td>\n",
       "      <td>0</td>\n",
       "      <td>0</td>\n",
       "      <td>0</td>\n",
       "      <td>...</td>\n",
       "      <td>0</td>\n",
       "      <td>0</td>\n",
       "      <td>0</td>\n",
       "      <td>0</td>\n",
       "      <td>0</td>\n",
       "      <td>0</td>\n",
       "      <td>0</td>\n",
       "      <td>0</td>\n",
       "      <td>0</td>\n",
       "      <td>0</td>\n",
       "    </tr>\n",
       "    <tr>\n",
       "      <th>8</th>\n",
       "      <td>0</td>\n",
       "      <td>0</td>\n",
       "      <td>0</td>\n",
       "      <td>0</td>\n",
       "      <td>0</td>\n",
       "      <td>1</td>\n",
       "      <td>0</td>\n",
       "      <td>0</td>\n",
       "      <td>0</td>\n",
       "      <td>0</td>\n",
       "      <td>...</td>\n",
       "      <td>0</td>\n",
       "      <td>0</td>\n",
       "      <td>0</td>\n",
       "      <td>0</td>\n",
       "      <td>0</td>\n",
       "      <td>0</td>\n",
       "      <td>0</td>\n",
       "      <td>0</td>\n",
       "      <td>0</td>\n",
       "      <td>0</td>\n",
       "    </tr>\n",
       "    <tr>\n",
       "      <th>9</th>\n",
       "      <td>0</td>\n",
       "      <td>1</td>\n",
       "      <td>0</td>\n",
       "      <td>0</td>\n",
       "      <td>0</td>\n",
       "      <td>1</td>\n",
       "      <td>0</td>\n",
       "      <td>0</td>\n",
       "      <td>0</td>\n",
       "      <td>0</td>\n",
       "      <td>...</td>\n",
       "      <td>0</td>\n",
       "      <td>0</td>\n",
       "      <td>0</td>\n",
       "      <td>0</td>\n",
       "      <td>0</td>\n",
       "      <td>0</td>\n",
       "      <td>0</td>\n",
       "      <td>0</td>\n",
       "      <td>0</td>\n",
       "      <td>0</td>\n",
       "    </tr>\n",
       "    <tr>\n",
       "      <th>10</th>\n",
       "      <td>0</td>\n",
       "      <td>0</td>\n",
       "      <td>0</td>\n",
       "      <td>0</td>\n",
       "      <td>0</td>\n",
       "      <td>0</td>\n",
       "      <td>0</td>\n",
       "      <td>0</td>\n",
       "      <td>0</td>\n",
       "      <td>1</td>\n",
       "      <td>...</td>\n",
       "      <td>0</td>\n",
       "      <td>0</td>\n",
       "      <td>0</td>\n",
       "      <td>0</td>\n",
       "      <td>0</td>\n",
       "      <td>0</td>\n",
       "      <td>0</td>\n",
       "      <td>0</td>\n",
       "      <td>0</td>\n",
       "      <td>0</td>\n",
       "    </tr>\n",
       "    <tr>\n",
       "      <th>11</th>\n",
       "      <td>0</td>\n",
       "      <td>1</td>\n",
       "      <td>0</td>\n",
       "      <td>0</td>\n",
       "      <td>0</td>\n",
       "      <td>0</td>\n",
       "      <td>0</td>\n",
       "      <td>0</td>\n",
       "      <td>0</td>\n",
       "      <td>0</td>\n",
       "      <td>...</td>\n",
       "      <td>0</td>\n",
       "      <td>0</td>\n",
       "      <td>0</td>\n",
       "      <td>0</td>\n",
       "      <td>0</td>\n",
       "      <td>0</td>\n",
       "      <td>0</td>\n",
       "      <td>0</td>\n",
       "      <td>0</td>\n",
       "      <td>0</td>\n",
       "    </tr>\n",
       "    <tr>\n",
       "      <th>12</th>\n",
       "      <td>0</td>\n",
       "      <td>1</td>\n",
       "      <td>0</td>\n",
       "      <td>0</td>\n",
       "      <td>0</td>\n",
       "      <td>0</td>\n",
       "      <td>0</td>\n",
       "      <td>0</td>\n",
       "      <td>0</td>\n",
       "      <td>0</td>\n",
       "      <td>...</td>\n",
       "      <td>0</td>\n",
       "      <td>0</td>\n",
       "      <td>0</td>\n",
       "      <td>0</td>\n",
       "      <td>0</td>\n",
       "      <td>0</td>\n",
       "      <td>0</td>\n",
       "      <td>0</td>\n",
       "      <td>0</td>\n",
       "      <td>0</td>\n",
       "    </tr>\n",
       "    <tr>\n",
       "      <th>13</th>\n",
       "      <td>0</td>\n",
       "      <td>1</td>\n",
       "      <td>0</td>\n",
       "      <td>0</td>\n",
       "      <td>0</td>\n",
       "      <td>0</td>\n",
       "      <td>0</td>\n",
       "      <td>0</td>\n",
       "      <td>0</td>\n",
       "      <td>0</td>\n",
       "      <td>...</td>\n",
       "      <td>0</td>\n",
       "      <td>0</td>\n",
       "      <td>0</td>\n",
       "      <td>0</td>\n",
       "      <td>0</td>\n",
       "      <td>0</td>\n",
       "      <td>0</td>\n",
       "      <td>0</td>\n",
       "      <td>0</td>\n",
       "      <td>0</td>\n",
       "    </tr>\n",
       "    <tr>\n",
       "      <th>14</th>\n",
       "      <td>0</td>\n",
       "      <td>1</td>\n",
       "      <td>0</td>\n",
       "      <td>0</td>\n",
       "      <td>1</td>\n",
       "      <td>0</td>\n",
       "      <td>0</td>\n",
       "      <td>0</td>\n",
       "      <td>0</td>\n",
       "      <td>0</td>\n",
       "      <td>...</td>\n",
       "      <td>0</td>\n",
       "      <td>0</td>\n",
       "      <td>0</td>\n",
       "      <td>0</td>\n",
       "      <td>0</td>\n",
       "      <td>0</td>\n",
       "      <td>0</td>\n",
       "      <td>0</td>\n",
       "      <td>0</td>\n",
       "      <td>0</td>\n",
       "    </tr>\n",
       "    <tr>\n",
       "      <th>15</th>\n",
       "      <td>0</td>\n",
       "      <td>1</td>\n",
       "      <td>1</td>\n",
       "      <td>0</td>\n",
       "      <td>0</td>\n",
       "      <td>0</td>\n",
       "      <td>0</td>\n",
       "      <td>0</td>\n",
       "      <td>0</td>\n",
       "      <td>0</td>\n",
       "      <td>...</td>\n",
       "      <td>0</td>\n",
       "      <td>0</td>\n",
       "      <td>0</td>\n",
       "      <td>0</td>\n",
       "      <td>0</td>\n",
       "      <td>0</td>\n",
       "      <td>0</td>\n",
       "      <td>0</td>\n",
       "      <td>0</td>\n",
       "      <td>0</td>\n",
       "    </tr>\n",
       "    <tr>\n",
       "      <th>16</th>\n",
       "      <td>0</td>\n",
       "      <td>1</td>\n",
       "      <td>0</td>\n",
       "      <td>0</td>\n",
       "      <td>0</td>\n",
       "      <td>1</td>\n",
       "      <td>0</td>\n",
       "      <td>0</td>\n",
       "      <td>0</td>\n",
       "      <td>0</td>\n",
       "      <td>...</td>\n",
       "      <td>0</td>\n",
       "      <td>0</td>\n",
       "      <td>0</td>\n",
       "      <td>0</td>\n",
       "      <td>0</td>\n",
       "      <td>0</td>\n",
       "      <td>0</td>\n",
       "      <td>0</td>\n",
       "      <td>0</td>\n",
       "      <td>0</td>\n",
       "    </tr>\n",
       "    <tr>\n",
       "      <th>17</th>\n",
       "      <td>0</td>\n",
       "      <td>1</td>\n",
       "      <td>0</td>\n",
       "      <td>0</td>\n",
       "      <td>1</td>\n",
       "      <td>0</td>\n",
       "      <td>0</td>\n",
       "      <td>0</td>\n",
       "      <td>0</td>\n",
       "      <td>0</td>\n",
       "      <td>...</td>\n",
       "      <td>0</td>\n",
       "      <td>0</td>\n",
       "      <td>0</td>\n",
       "      <td>0</td>\n",
       "      <td>0</td>\n",
       "      <td>0</td>\n",
       "      <td>0</td>\n",
       "      <td>0</td>\n",
       "      <td>0</td>\n",
       "      <td>0</td>\n",
       "    </tr>\n",
       "    <tr>\n",
       "      <th>18</th>\n",
       "      <td>0</td>\n",
       "      <td>1</td>\n",
       "      <td>1</td>\n",
       "      <td>0</td>\n",
       "      <td>0</td>\n",
       "      <td>0</td>\n",
       "      <td>0</td>\n",
       "      <td>0</td>\n",
       "      <td>0</td>\n",
       "      <td>0</td>\n",
       "      <td>...</td>\n",
       "      <td>0</td>\n",
       "      <td>0</td>\n",
       "      <td>0</td>\n",
       "      <td>0</td>\n",
       "      <td>0</td>\n",
       "      <td>0</td>\n",
       "      <td>0</td>\n",
       "      <td>0</td>\n",
       "      <td>0</td>\n",
       "      <td>0</td>\n",
       "    </tr>\n",
       "    <tr>\n",
       "      <th>19</th>\n",
       "      <td>0</td>\n",
       "      <td>0</td>\n",
       "      <td>0</td>\n",
       "      <td>0</td>\n",
       "      <td>0</td>\n",
       "      <td>0</td>\n",
       "      <td>0</td>\n",
       "      <td>1</td>\n",
       "      <td>0</td>\n",
       "      <td>0</td>\n",
       "      <td>...</td>\n",
       "      <td>0</td>\n",
       "      <td>0</td>\n",
       "      <td>0</td>\n",
       "      <td>0</td>\n",
       "      <td>0</td>\n",
       "      <td>0</td>\n",
       "      <td>0</td>\n",
       "      <td>0</td>\n",
       "      <td>0</td>\n",
       "      <td>0</td>\n",
       "    </tr>\n",
       "  </tbody>\n",
       "</table>\n",
       "<p>20 rows × 56 columns</p>\n",
       "</div>"
      ],
      "text/plain": [
       "    Matlab  Python  Pyspark  Scikit-learn  Tensorflow  Java  Scala  MongoDB  \\\n",
       "0        1       1        1             1           1     0      0        0   \n",
       "1        0       1        0             0           0     1      1        1   \n",
       "2        0       1        0             0           1     0      0        0   \n",
       "3        0       1        0             0           0     1      0        0   \n",
       "4        1       1        0             0           1     0      0        0   \n",
       "5        0       1        0             0           0     0      0        0   \n",
       "6        0       1        0             0           0     0      0        0   \n",
       "7        0       1        0             0           0     1      0        0   \n",
       "8        0       0        0             0           0     1      0        0   \n",
       "9        0       1        0             0           0     1      0        0   \n",
       "10       0       0        0             0           0     0      0        0   \n",
       "11       0       1        0             0           0     0      0        0   \n",
       "12       0       1        0             0           0     0      0        0   \n",
       "13       0       1        0             0           0     0      0        0   \n",
       "14       0       1        0             0           1     0      0        0   \n",
       "15       0       1        1             0           0     0      0        0   \n",
       "16       0       1        0             0           0     1      0        0   \n",
       "17       0       1        0             0           1     0      0        0   \n",
       "18       0       1        1             0           0     0      0        0   \n",
       "19       0       0        0             0           0     0      0        1   \n",
       "\n",
       "    SPSS  SQL  ...  Kafka  ORACLE  MySQL  Cassandra  NoSQL  Matplotlib  \\\n",
       "0      0    0  ...      0       0      0          0      0           0   \n",
       "1      0    0  ...      0       0      0          0      0           0   \n",
       "2      1    1  ...      0       0      0          0      0           0   \n",
       "3      0    0  ...      0       0      0          0      0           0   \n",
       "4      0    0  ...      0       0      0          0      0           0   \n",
       "5      0    0  ...      0       0      0          0      0           0   \n",
       "6      0    0  ...      0       0      0          0      0           0   \n",
       "7      0    0  ...      0       0      0          0      0           0   \n",
       "8      0    0  ...      0       0      0          0      0           0   \n",
       "9      0    0  ...      0       0      0          0      0           0   \n",
       "10     0    1  ...      0       0      0          0      0           0   \n",
       "11     0    0  ...      0       0      0          0      0           0   \n",
       "12     0    0  ...      0       0      0          0      0           0   \n",
       "13     0    0  ...      0       0      0          0      0           0   \n",
       "14     0    0  ...      0       0      0          0      0           0   \n",
       "15     0    0  ...      0       0      0          0      0           0   \n",
       "16     0    0  ...      0       0      0          0      0           0   \n",
       "17     0    0  ...      0       0      0          0      0           0   \n",
       "18     0    0  ...      0       0      0          0      0           0   \n",
       "19     0    0  ...      0       0      0          0      0           0   \n",
       "\n",
       "    Map-Reduce  PIG  HBASE  Windows  \n",
       "0            0    0      0        0  \n",
       "1            0    0      0        0  \n",
       "2            0    0      0        0  \n",
       "3            0    0      0        0  \n",
       "4            0    0      0        0  \n",
       "5            0    0      0        0  \n",
       "6            0    0      0        0  \n",
       "7            0    0      0        0  \n",
       "8            0    0      0        0  \n",
       "9            0    0      0        0  \n",
       "10           0    0      0        0  \n",
       "11           0    0      0        0  \n",
       "12           0    0      0        0  \n",
       "13           0    0      0        0  \n",
       "14           0    0      0        0  \n",
       "15           0    0      0        0  \n",
       "16           0    0      0        0  \n",
       "17           0    0      0        0  \n",
       "18           0    0      0        0  \n",
       "19           0    0      0        0  \n",
       "\n",
       "[20 rows x 56 columns]"
      ]
     },
     "execution_count": 33,
     "metadata": {},
     "output_type": "execute_result"
    }
   ],
   "source": [
    "df_techno_final.head(20)"
   ]
  },
  {
   "cell_type": "markdown",
   "metadata": {},
   "source": [
    "On a obtenu ce qu'on voulait, à savoir un dataframe avec en colonne les technologies et remplit de 1 ou 0 selon que la personne maitrise la technologie ou non. Il ne reste plus qu'à l'intégrer à notre dataframe"
   ]
  },
  {
   "cell_type": "code",
   "execution_count": 34,
   "metadata": {},
   "outputs": [],
   "source": [
    "# On garde le dataframe df plus lisible et on en créé un autre\n",
    "df_full_technos = df.copy()\n",
    "for i in range(56):\n",
    "    df_full_technos[liste_technologies[i]] = df_techno_final[liste_technologies[i]]"
   ]
  },
  {
   "cell_type": "code",
   "execution_count": 35,
   "metadata": {
    "scrolled": true
   },
   "outputs": [
    {
     "data": {
      "text/html": [
       "<div>\n",
       "<style scoped>\n",
       "    .dataframe tbody tr th:only-of-type {\n",
       "        vertical-align: middle;\n",
       "    }\n",
       "\n",
       "    .dataframe tbody tr th {\n",
       "        vertical-align: top;\n",
       "    }\n",
       "\n",
       "    .dataframe thead th {\n",
       "        text-align: right;\n",
       "    }\n",
       "</style>\n",
       "<table border=\"1\" class=\"dataframe\">\n",
       "  <thead>\n",
       "    <tr style=\"text-align: right;\">\n",
       "      <th></th>\n",
       "      <th>Entreprise</th>\n",
       "      <th>Metier</th>\n",
       "      <th>Technologies</th>\n",
       "      <th>Diplome</th>\n",
       "      <th>Ville</th>\n",
       "      <th>Cat_Experience</th>\n",
       "      <th>Matlab</th>\n",
       "      <th>Python</th>\n",
       "      <th>Pyspark</th>\n",
       "      <th>Scikit-learn</th>\n",
       "      <th>...</th>\n",
       "      <th>Kafka</th>\n",
       "      <th>ORACLE</th>\n",
       "      <th>MySQL</th>\n",
       "      <th>Cassandra</th>\n",
       "      <th>NoSQL</th>\n",
       "      <th>Matplotlib</th>\n",
       "      <th>Map-Reduce</th>\n",
       "      <th>PIG</th>\n",
       "      <th>HBASE</th>\n",
       "      <th>Windows</th>\n",
       "    </tr>\n",
       "  </thead>\n",
       "  <tbody>\n",
       "    <tr>\n",
       "      <th>0</th>\n",
       "      <td>Sanofi</td>\n",
       "      <td>Data scientist</td>\n",
       "      <td>Matlab/Python/Pyspark/Scikit-learn/Tensorflow</td>\n",
       "      <td>Master</td>\n",
       "      <td>Paris</td>\n",
       "      <td>Debutant</td>\n",
       "      <td>1</td>\n",
       "      <td>1</td>\n",
       "      <td>1</td>\n",
       "      <td>1</td>\n",
       "      <td>...</td>\n",
       "      <td>0</td>\n",
       "      <td>0</td>\n",
       "      <td>0</td>\n",
       "      <td>0</td>\n",
       "      <td>0</td>\n",
       "      <td>0</td>\n",
       "      <td>0</td>\n",
       "      <td>0</td>\n",
       "      <td>0</td>\n",
       "      <td>0</td>\n",
       "    </tr>\n",
       "    <tr>\n",
       "      <th>1</th>\n",
       "      <td>Massachusetts General Hospital(MGH)</td>\n",
       "      <td>Data architecte</td>\n",
       "      <td>Python/Java/Scala/MongoDB</td>\n",
       "      <td>Master</td>\n",
       "      <td>Marseille</td>\n",
       "      <td>Confirme</td>\n",
       "      <td>0</td>\n",
       "      <td>1</td>\n",
       "      <td>0</td>\n",
       "      <td>0</td>\n",
       "      <td>...</td>\n",
       "      <td>0</td>\n",
       "      <td>0</td>\n",
       "      <td>0</td>\n",
       "      <td>0</td>\n",
       "      <td>0</td>\n",
       "      <td>0</td>\n",
       "      <td>0</td>\n",
       "      <td>0</td>\n",
       "      <td>0</td>\n",
       "      <td>0</td>\n",
       "    </tr>\n",
       "    <tr>\n",
       "      <th>2</th>\n",
       "      <td>Delve</td>\n",
       "      <td>Lead data scientist</td>\n",
       "      <td>SPSS/SQL/Teradata/R/Python/Tensorflow/scikit-l...</td>\n",
       "      <td>Master</td>\n",
       "      <td>Nantes</td>\n",
       "      <td>Confirme</td>\n",
       "      <td>0</td>\n",
       "      <td>1</td>\n",
       "      <td>0</td>\n",
       "      <td>0</td>\n",
       "      <td>...</td>\n",
       "      <td>0</td>\n",
       "      <td>0</td>\n",
       "      <td>0</td>\n",
       "      <td>0</td>\n",
       "      <td>0</td>\n",
       "      <td>0</td>\n",
       "      <td>0</td>\n",
       "      <td>0</td>\n",
       "      <td>0</td>\n",
       "      <td>0</td>\n",
       "    </tr>\n",
       "    <tr>\n",
       "      <th>3</th>\n",
       "      <td>Ann &amp; Robert H. Lurie Children’s Hospital of C...</td>\n",
       "      <td>Data scientist</td>\n",
       "      <td>C/C++/Java/Python</td>\n",
       "      <td>Master</td>\n",
       "      <td>Marseille</td>\n",
       "      <td>Debutant</td>\n",
       "      <td>0</td>\n",
       "      <td>1</td>\n",
       "      <td>0</td>\n",
       "      <td>0</td>\n",
       "      <td>...</td>\n",
       "      <td>0</td>\n",
       "      <td>0</td>\n",
       "      <td>0</td>\n",
       "      <td>0</td>\n",
       "      <td>0</td>\n",
       "      <td>0</td>\n",
       "      <td>0</td>\n",
       "      <td>0</td>\n",
       "      <td>0</td>\n",
       "      <td>0</td>\n",
       "    </tr>\n",
       "    <tr>\n",
       "      <th>4</th>\n",
       "      <td>Arm</td>\n",
       "      <td>Data scientist</td>\n",
       "      <td>Matlab/Python/C++/numpy/Tensorflow/scikit-learn</td>\n",
       "      <td>Phd</td>\n",
       "      <td>Bordeaux</td>\n",
       "      <td>Confirme</td>\n",
       "      <td>1</td>\n",
       "      <td>1</td>\n",
       "      <td>0</td>\n",
       "      <td>0</td>\n",
       "      <td>...</td>\n",
       "      <td>0</td>\n",
       "      <td>0</td>\n",
       "      <td>0</td>\n",
       "      <td>0</td>\n",
       "      <td>0</td>\n",
       "      <td>0</td>\n",
       "      <td>0</td>\n",
       "      <td>0</td>\n",
       "      <td>0</td>\n",
       "      <td>0</td>\n",
       "    </tr>\n",
       "  </tbody>\n",
       "</table>\n",
       "<p>5 rows × 62 columns</p>\n",
       "</div>"
      ],
      "text/plain": [
       "                                          Entreprise               Metier  \\\n",
       "0                                             Sanofi       Data scientist   \n",
       "1                Massachusetts General Hospital(MGH)      Data architecte   \n",
       "2                                              Delve  Lead data scientist   \n",
       "3  Ann & Robert H. Lurie Children’s Hospital of C...       Data scientist   \n",
       "4                                                Arm       Data scientist   \n",
       "\n",
       "                                        Technologies Diplome      Ville  \\\n",
       "0      Matlab/Python/Pyspark/Scikit-learn/Tensorflow  Master      Paris   \n",
       "1                          Python/Java/Scala/MongoDB  Master  Marseille   \n",
       "2  SPSS/SQL/Teradata/R/Python/Tensorflow/scikit-l...  Master     Nantes   \n",
       "3                                  C/C++/Java/Python  Master  Marseille   \n",
       "4    Matlab/Python/C++/numpy/Tensorflow/scikit-learn     Phd   Bordeaux   \n",
       "\n",
       "  Cat_Experience  Matlab  Python  Pyspark  Scikit-learn  ...  Kafka  ORACLE  \\\n",
       "0       Debutant       1       1        1             1  ...      0       0   \n",
       "1       Confirme       0       1        0             0  ...      0       0   \n",
       "2       Confirme       0       1        0             0  ...      0       0   \n",
       "3       Debutant       0       1        0             0  ...      0       0   \n",
       "4       Confirme       1       1        0             0  ...      0       0   \n",
       "\n",
       "   MySQL  Cassandra  NoSQL  Matplotlib  Map-Reduce  PIG  HBASE  Windows  \n",
       "0      0          0      0           0           0    0      0        0  \n",
       "1      0          0      0           0           0    0      0        0  \n",
       "2      0          0      0           0           0    0      0        0  \n",
       "3      0          0      0           0           0    0      0        0  \n",
       "4      0          0      0           0           0    0      0        0  \n",
       "\n",
       "[5 rows x 62 columns]"
      ]
     },
     "execution_count": 35,
     "metadata": {},
     "output_type": "execute_result"
    }
   ],
   "source": [
    "# Vérifions si ça a fonctionné\n",
    "df_full_technos.head()"
   ]
  },
  {
   "cell_type": "markdown",
   "metadata": {},
   "source": [
    "Très bien, maintenant qu'on a obtenu ce qu'on voulait, on peut supprimer la colonne \"Technologies\""
   ]
  },
  {
   "cell_type": "code",
   "execution_count": 36,
   "metadata": {},
   "outputs": [],
   "source": [
    "df_full_technos = df_full_technos.drop('Technologies', axis=1)"
   ]
  },
  {
   "cell_type": "markdown",
   "metadata": {},
   "source": [
    "**- Réponse à la question posée**"
   ]
  },
  {
   "cell_type": "code",
   "execution_count": 37,
   "metadata": {},
   "outputs": [
    {
     "data": {
      "text/plain": [
       "Python    6627\n",
       "R         4374\n",
       "SQL       2581\n",
       "Java      1719\n",
       "Hadoop    1687\n",
       "dtype: int64"
      ]
     },
     "execution_count": 37,
     "metadata": {},
     "output_type": "execute_result"
    }
   ],
   "source": [
    "# On peut maintenant afficher facilement le top 5 des technologies\n",
    "top5_techno = df_full_technos.sum(axis=0).sort_values(ascending = False).head(5)\n",
    "top5_techno"
   ]
  },
  {
   "cell_type": "code",
   "execution_count": 38,
   "metadata": {
    "scrolled": false
   },
   "outputs": [
    {
     "data": {
      "image/png": "[encoded data removed]",
      "text/plain": [
       "<Figure size 1440x1080 with 1 Axes>"
      ]
     },
     "metadata": {
      "needs_background": "light"
     },
     "output_type": "display_data"
    }
   ],
   "source": [
    "# Faisons maintenant un graphe pour les représenter\n",
    "y = top5_techno.values\n",
    "y_pourcent = y/9582*100\n",
    "x = top5_techno.index.values\n",
    "\n",
    "fig, ax = plt.subplots(figsize=(20,15))\n",
    "fig = plt.barh(x, y_pourcent, orientation ='horizontal')\n",
    "\n",
    "def autolabel(rects):\n",
    "    for idx,rect in enumerate(rects):\n",
    "        width = rect.get_width()\n",
    "        ax.text(5+width, rect.get_y() + rect.get_height()/2,\n",
    "                y[idx],\n",
    "                ha='center', va='bottom', rotation=0, fontsize=20)\n",
    "\n",
    "autolabel(fig)\n",
    "\n",
    "plt.title(\"Top 5 des technologies les plus maitrisées\", fontsize = 40)\n",
    "plt.xlabel(\"Pourcentage de personne matrisant la technologie (%)\", fontsize = 20)\n",
    "plt.ylabel(\"Technologies\", fontsize = 20)\n",
    "plt.xticks(fontsize=16)\n",
    "plt.yticks(fontsize=16)\n",
    "plt.xlim(0, 100)\n",
    "plt.show()"
   ]
  },
  {
   "cell_type": "markdown",
   "metadata": {},
   "source": [
    "### 8) Réaliser une méthode de clustering non supervisée de votre choix pour faire apparaître 2 clusters que vous jugerez pertinents. Donnez les caractéristiques de chacun des clusters.\n",
    "-  Justifier la performance de votre algorithme grace à une métrique.\n",
    "-  Interpréter votre resultat.  "
   ]
  },
  {
   "cell_type": "markdown",
   "metadata": {},
   "source": [
    "Procédons par étape\n",
    "- Complétude des données manquantes restantes\n",
    "- Résolution des Outliers\n",
    "- Encodage des variables qualitatives\n",
    "- Choix de la méthode et de la métrique associée\n",
    "- Comparaison et choix du modèle"
   ]
  },
  {
   "cell_type": "markdown",
   "metadata": {},
   "source": [
    "**- Données manquantes restantes**"
   ]
  },
  {
   "cell_type": "code",
   "execution_count": 39,
   "metadata": {
    "scrolled": true
   },
   "outputs": [
    {
     "data": {
      "text/html": [
       "<div>\n",
       "<style scoped>\n",
       "    .dataframe tbody tr th:only-of-type {\n",
       "        vertical-align: middle;\n",
       "    }\n",
       "\n",
       "    .dataframe tbody tr th {\n",
       "        vertical-align: top;\n",
       "    }\n",
       "\n",
       "    .dataframe thead th {\n",
       "        text-align: right;\n",
       "    }\n",
       "</style>\n",
       "<table border=\"1\" class=\"dataframe\">\n",
       "  <thead>\n",
       "    <tr style=\"text-align: right;\">\n",
       "      <th></th>\n",
       "      <th>Total</th>\n",
       "      <th>Pourcentage (%)</th>\n",
       "    </tr>\n",
       "  </thead>\n",
       "  <tbody>\n",
       "    <tr>\n",
       "      <th>Metier</th>\n",
       "      <td>19</td>\n",
       "      <td>0.198288</td>\n",
       "    </tr>\n",
       "    <tr>\n",
       "      <th>Entreprise</th>\n",
       "      <td>17</td>\n",
       "      <td>0.177416</td>\n",
       "    </tr>\n",
       "    <tr>\n",
       "      <th>Cat_Experience</th>\n",
       "      <td>0</td>\n",
       "      <td>0.000000</td>\n",
       "    </tr>\n",
       "    <tr>\n",
       "      <th>Ville</th>\n",
       "      <td>0</td>\n",
       "      <td>0.000000</td>\n",
       "    </tr>\n",
       "    <tr>\n",
       "      <th>Diplome</th>\n",
       "      <td>0</td>\n",
       "      <td>0.000000</td>\n",
       "    </tr>\n",
       "  </tbody>\n",
       "</table>\n",
       "</div>"
      ],
      "text/plain": [
       "                Total  Pourcentage (%)\n",
       "Metier             19         0.198288\n",
       "Entreprise         17         0.177416\n",
       "Cat_Experience      0         0.000000\n",
       "Ville               0         0.000000\n",
       "Diplome             0         0.000000"
      ]
     },
     "execution_count": 39,
     "metadata": {},
     "output_type": "execute_result"
    }
   ],
   "source": [
    "#Tableau affichant les données manquantes\n",
    "total = df.isnull().sum().sort_values(ascending=False)\n",
    "percent = (df.isnull().sum()/df.isnull().count()*100).sort_values(ascending=False)\n",
    "missing_data = pd.concat([total, percent], axis=1, keys=['Total', 'Pourcentage (%)'])\n",
    "missing_data.head()"
   ]
  },
  {
   "cell_type": "code",
   "execution_count": 40,
   "metadata": {
    "scrolled": true
   },
   "outputs": [
    {
     "data": {
      "text/plain": [
       "Ball Aerospace                         748\n",
       "KPMG                                   132\n",
       "Amazon.com                             127\n",
       "Brigham & Women's Hospital(BWH)        115\n",
       "Google                                 112\n",
       "McKinsey & Company                     110\n",
       "University of Texas at Austin           92\n",
       "Wayfair                                 84\n",
       "Massachusetts General Hospital(MGH)     83\n",
       "Jacobs                                  80\n",
       "Vertex Pharmaceuticals                  68\n",
       "Tempus                                  66\n",
       "Burns & McDonnell                       66\n",
       "Civis Analytics                         65\n",
       "Harvard University                      63\n",
       "Vertex                                  63\n",
       "Takeda Pharmaceutical                   62\n",
       "Harnham                                 61\n",
       "Georgia Tech Research Institute         60\n",
       "ICF                                     60\n",
       "Emory University                        60\n",
       "Dana-Farber Cancer Institute            60\n",
       "The Home Depot                          52\n",
       "Broad Institute                         49\n",
       "Workbridge Associates                   49\n",
       "General Electric                        49\n",
       "University of Colorado                  48\n",
       "Accenture                               48\n",
       "Boston University                       48\n",
       "Bank of America                         45\n",
       "                                      ... \n",
       "BloomReach                               1\n",
       "LivePerson                               1\n",
       "Integral Ad Science                      1\n",
       "MRY                                      1\n",
       "Research Now                             1\n",
       "Ascent Services Group                    1\n",
       "Deutsch                                  1\n",
       "Atlassian                                1\n",
       "Applecart                                1\n",
       "IQ Workforce                             1\n",
       "SEMA4                                    1\n",
       "SearchTech Consulting, Inc               1\n",
       "Angiex, Inc.                             1\n",
       "Woodlyn Partners, Inc.                   1\n",
       "FanDuel                                  1\n",
       "Cognizant                                1\n",
       "Group One Trading                        1\n",
       "Tapestry                                 1\n",
       "BNP Paribas                              1\n",
       "Rockets of Awesome                       1\n",
       "Obsidian Therapeutics                    1\n",
       "Anokion                                  1\n",
       "DEPT OF ENVIRONMENT PROTECTION           1\n",
       "605                                      1\n",
       "Synechron                                1\n",
       "Blue Apron                               1\n",
       "Science 37                               1\n",
       "Guardian Analytics                       1\n",
       "Rauxa                                    1\n",
       "Guardian Life Insurance Company          1\n",
       "Name: Entreprise, Length: 1382, dtype: int64"
      ]
     },
     "execution_count": 40,
     "metadata": {},
     "output_type": "execute_result"
    }
   ],
   "source": [
    "# Concernant l'entreprise, affichons les principales occurences\n",
    "df_full_technos[\"Entreprise\"].value_counts()"
   ]
  },
  {
   "cell_type": "markdown",
   "metadata": {},
   "source": [
    "Etant donné la disparité des valeurs de cette colonne, pas sur qu'elle apporte beaucoup d'information. De plus, lorsque je vais faire l'encodage, comme il y a 1382 valeurs, le nombre de features va exploser ce qui risquerait d'augmenter grandement le temps de calcul. Mais, dans un premier temps, pour ne perdre aucune information, je décide de garder cette colonne et de remplacer les valeurs manquantes par la plus forte occurence"
   ]
  },
  {
   "cell_type": "code",
   "execution_count": 41,
   "metadata": {},
   "outputs": [],
   "source": [
    "# on compléte par la plus forte occurence\n",
    "df_full_technos[\"Entreprise\"].fillna(df[\"Entreprise\"].value_counts().index[0], inplace=True)"
   ]
  },
  {
   "cell_type": "code",
   "execution_count": 42,
   "metadata": {},
   "outputs": [],
   "source": [
    "# Concernant le métier, on compléte par la plus forte occurence. On créé un nouveau dataframe afin de laisser les métiers vides pour la classification de la question suivante\n",
    "df_clustering = df_full_technos.copy()\n",
    "df_clustering[\"Metier\"].fillna(df[\"Metier\"].value_counts().index[0], inplace= True)"
   ]
  },
  {
   "cell_type": "code",
   "execution_count": 43,
   "metadata": {
    "scrolled": true
   },
   "outputs": [
    {
     "data": {
      "text/html": [
       "<div>\n",
       "<style scoped>\n",
       "    .dataframe tbody tr th:only-of-type {\n",
       "        vertical-align: middle;\n",
       "    }\n",
       "\n",
       "    .dataframe tbody tr th {\n",
       "        vertical-align: top;\n",
       "    }\n",
       "\n",
       "    .dataframe thead th {\n",
       "        text-align: right;\n",
       "    }\n",
       "</style>\n",
       "<table border=\"1\" class=\"dataframe\">\n",
       "  <thead>\n",
       "    <tr style=\"text-align: right;\">\n",
       "      <th></th>\n",
       "      <th>Total</th>\n",
       "      <th>Pourcentage (%)</th>\n",
       "    </tr>\n",
       "  </thead>\n",
       "  <tbody>\n",
       "    <tr>\n",
       "      <th>Windows</th>\n",
       "      <td>0</td>\n",
       "      <td>0.0</td>\n",
       "    </tr>\n",
       "    <tr>\n",
       "      <th>MariaDB</th>\n",
       "      <td>0</td>\n",
       "      <td>0.0</td>\n",
       "    </tr>\n",
       "    <tr>\n",
       "      <th>Hadoop</th>\n",
       "      <td>0</td>\n",
       "      <td>0.0</td>\n",
       "    </tr>\n",
       "    <tr>\n",
       "      <th>GNU</th>\n",
       "      <td>0</td>\n",
       "      <td>0.0</td>\n",
       "    </tr>\n",
       "    <tr>\n",
       "      <th>Docker</th>\n",
       "      <td>0</td>\n",
       "      <td>0.0</td>\n",
       "    </tr>\n",
       "  </tbody>\n",
       "</table>\n",
       "</div>"
      ],
      "text/plain": [
       "         Total  Pourcentage (%)\n",
       "Windows      0              0.0\n",
       "MariaDB      0              0.0\n",
       "Hadoop       0              0.0\n",
       "GNU          0              0.0\n",
       "Docker       0              0.0"
      ]
     },
     "execution_count": 43,
     "metadata": {},
     "output_type": "execute_result"
    }
   ],
   "source": [
    "#Tableau affichant les données manquantes\n",
    "total = df_clustering.isnull().sum().sort_values(ascending=False)\n",
    "percent = (df_clustering.isnull().sum()/df_clustering.isnull().count()*100).sort_values(ascending=False)\n",
    "missing_data = pd.concat([total, percent], axis=1, keys=['Total', 'Pourcentage (%)'])\n",
    "missing_data.head()"
   ]
  },
  {
   "cell_type": "markdown",
   "metadata": {},
   "source": [
    "C'est bon il n'y a plus de données manquantes !"
   ]
  },
  {
   "cell_type": "markdown",
   "metadata": {},
   "source": [
    "**- Outliers**"
   ]
  },
  {
   "cell_type": "markdown",
   "metadata": {},
   "source": [
    "Il ne semble pas y avoir de données aberrantes. Je ne supprime aucune valeur"
   ]
  },
  {
   "cell_type": "markdown",
   "metadata": {},
   "source": [
    "**- Encodage des variables qualitatives**"
   ]
  },
  {
   "cell_type": "markdown",
   "metadata": {},
   "source": [
    "J'utilise la très puissante méthode get_dummies de pandas"
   ]
  },
  {
   "cell_type": "code",
   "execution_count": 44,
   "metadata": {
    "scrolled": true
   },
   "outputs": [
    {
     "data": {
      "text/html": [
       "<div>\n",
       "<style scoped>\n",
       "    .dataframe tbody tr th:only-of-type {\n",
       "        vertical-align: middle;\n",
       "    }\n",
       "\n",
       "    .dataframe tbody tr th {\n",
       "        vertical-align: top;\n",
       "    }\n",
       "\n",
       "    .dataframe thead th {\n",
       "        text-align: right;\n",
       "    }\n",
       "</style>\n",
       "<table border=\"1\" class=\"dataframe\">\n",
       "  <thead>\n",
       "    <tr style=\"text-align: right;\">\n",
       "      <th></th>\n",
       "      <th>Matlab</th>\n",
       "      <th>Python</th>\n",
       "      <th>Pyspark</th>\n",
       "      <th>Scikit-learn</th>\n",
       "      <th>Tensorflow</th>\n",
       "      <th>Java</th>\n",
       "      <th>Scala</th>\n",
       "      <th>MongoDB</th>\n",
       "      <th>SPSS</th>\n",
       "      <th>SQL</th>\n",
       "      <th>...</th>\n",
       "      <th>Ville_Paris</th>\n",
       "      <th>Ville_Rennes</th>\n",
       "      <th>Ville_Rouen</th>\n",
       "      <th>Ville_Strasbourg</th>\n",
       "      <th>Ville_Toulon</th>\n",
       "      <th>Ville_Toulouse</th>\n",
       "      <th>Cat_Experience_Debutant</th>\n",
       "      <th>Cat_Experience_Confirme</th>\n",
       "      <th>Cat_Experience_Avance</th>\n",
       "      <th>Cat_Experience_Expert</th>\n",
       "    </tr>\n",
       "  </thead>\n",
       "  <tbody>\n",
       "    <tr>\n",
       "      <th>0</th>\n",
       "      <td>1</td>\n",
       "      <td>1</td>\n",
       "      <td>1</td>\n",
       "      <td>1</td>\n",
       "      <td>1</td>\n",
       "      <td>0</td>\n",
       "      <td>0</td>\n",
       "      <td>0</td>\n",
       "      <td>0</td>\n",
       "      <td>0</td>\n",
       "      <td>...</td>\n",
       "      <td>1</td>\n",
       "      <td>0</td>\n",
       "      <td>0</td>\n",
       "      <td>0</td>\n",
       "      <td>0</td>\n",
       "      <td>0</td>\n",
       "      <td>1</td>\n",
       "      <td>0</td>\n",
       "      <td>0</td>\n",
       "      <td>0</td>\n",
       "    </tr>\n",
       "    <tr>\n",
       "      <th>1</th>\n",
       "      <td>0</td>\n",
       "      <td>1</td>\n",
       "      <td>0</td>\n",
       "      <td>0</td>\n",
       "      <td>0</td>\n",
       "      <td>1</td>\n",
       "      <td>1</td>\n",
       "      <td>1</td>\n",
       "      <td>0</td>\n",
       "      <td>0</td>\n",
       "      <td>...</td>\n",
       "      <td>0</td>\n",
       "      <td>0</td>\n",
       "      <td>0</td>\n",
       "      <td>0</td>\n",
       "      <td>0</td>\n",
       "      <td>0</td>\n",
       "      <td>0</td>\n",
       "      <td>1</td>\n",
       "      <td>0</td>\n",
       "      <td>0</td>\n",
       "    </tr>\n",
       "    <tr>\n",
       "      <th>2</th>\n",
       "      <td>0</td>\n",
       "      <td>1</td>\n",
       "      <td>0</td>\n",
       "      <td>0</td>\n",
       "      <td>1</td>\n",
       "      <td>0</td>\n",
       "      <td>0</td>\n",
       "      <td>0</td>\n",
       "      <td>1</td>\n",
       "      <td>1</td>\n",
       "      <td>...</td>\n",
       "      <td>0</td>\n",
       "      <td>0</td>\n",
       "      <td>0</td>\n",
       "      <td>0</td>\n",
       "      <td>0</td>\n",
       "      <td>0</td>\n",
       "      <td>0</td>\n",
       "      <td>1</td>\n",
       "      <td>0</td>\n",
       "      <td>0</td>\n",
       "    </tr>\n",
       "    <tr>\n",
       "      <th>3</th>\n",
       "      <td>0</td>\n",
       "      <td>1</td>\n",
       "      <td>0</td>\n",
       "      <td>0</td>\n",
       "      <td>0</td>\n",
       "      <td>1</td>\n",
       "      <td>0</td>\n",
       "      <td>0</td>\n",
       "      <td>0</td>\n",
       "      <td>0</td>\n",
       "      <td>...</td>\n",
       "      <td>0</td>\n",
       "      <td>0</td>\n",
       "      <td>0</td>\n",
       "      <td>0</td>\n",
       "      <td>0</td>\n",
       "      <td>0</td>\n",
       "      <td>1</td>\n",
       "      <td>0</td>\n",
       "      <td>0</td>\n",
       "      <td>0</td>\n",
       "    </tr>\n",
       "    <tr>\n",
       "      <th>4</th>\n",
       "      <td>1</td>\n",
       "      <td>1</td>\n",
       "      <td>0</td>\n",
       "      <td>0</td>\n",
       "      <td>1</td>\n",
       "      <td>0</td>\n",
       "      <td>0</td>\n",
       "      <td>0</td>\n",
       "      <td>0</td>\n",
       "      <td>0</td>\n",
       "      <td>...</td>\n",
       "      <td>0</td>\n",
       "      <td>0</td>\n",
       "      <td>0</td>\n",
       "      <td>0</td>\n",
       "      <td>0</td>\n",
       "      <td>0</td>\n",
       "      <td>0</td>\n",
       "      <td>1</td>\n",
       "      <td>0</td>\n",
       "      <td>0</td>\n",
       "    </tr>\n",
       "  </tbody>\n",
       "</table>\n",
       "<p>5 rows × 1464 columns</p>\n",
       "</div>"
      ],
      "text/plain": [
       "   Matlab  Python  Pyspark  Scikit-learn  Tensorflow  Java  Scala  MongoDB  \\\n",
       "0       1       1        1             1           1     0      0        0   \n",
       "1       0       1        0             0           0     1      1        1   \n",
       "2       0       1        0             0           1     0      0        0   \n",
       "3       0       1        0             0           0     1      0        0   \n",
       "4       1       1        0             0           1     0      0        0   \n",
       "\n",
       "   SPSS  SQL  ...  Ville_Paris  Ville_Rennes  Ville_Rouen  Ville_Strasbourg  \\\n",
       "0     0    0  ...            1             0            0                 0   \n",
       "1     0    0  ...            0             0            0                 0   \n",
       "2     1    1  ...            0             0            0                 0   \n",
       "3     0    0  ...            0             0            0                 0   \n",
       "4     0    0  ...            0             0            0                 0   \n",
       "\n",
       "   Ville_Toulon  Ville_Toulouse  Cat_Experience_Debutant  \\\n",
       "0             0               0                        1   \n",
       "1             0               0                        0   \n",
       "2             0               0                        0   \n",
       "3             0               0                        1   \n",
       "4             0               0                        0   \n",
       "\n",
       "   Cat_Experience_Confirme  Cat_Experience_Avance  Cat_Experience_Expert  \n",
       "0                        0                      0                      0  \n",
       "1                        1                      0                      0  \n",
       "2                        1                      0                      0  \n",
       "3                        0                      0                      0  \n",
       "4                        1                      0                      0  \n",
       "\n",
       "[5 rows x 1464 columns]"
      ]
     },
     "execution_count": 44,
     "metadata": {},
     "output_type": "execute_result"
    }
   ],
   "source": [
    "df_clustering = pd.get_dummies(df_clustering)\n",
    "df_clustering.head()"
   ]
  },
  {
   "cell_type": "markdown",
   "metadata": {},
   "source": [
    "**- Choix de la méthode et de la métrique associée**"
   ]
  },
  {
   "cell_type": "markdown",
   "metadata": {},
   "source": [
    "Etant donné la taille de l'échantillon, on pourrait soit choisir un kmean soit un mini batch kmean. Testons les 2 afin de choisir celui qui obtient les meilleurs performances.\n",
    "ressource : https://scikit-learn.org/stable/tutorial/machine_learning_map/index.html"
   ]
  },
  {
   "cell_type": "markdown",
   "metadata": {},
   "source": [
    "On évaluera les résultats de l'algorithme avec la méthode de l'inertie qu'il faut minimiser. Cette méthode permet d'évaluer combien les points sont loins les uns des autres au sein d'un même cluster."
   ]
  },
  {
   "cell_type": "markdown",
   "metadata": {},
   "source": [
    "**- Comparaison et choix du modèle**"
   ]
  },
  {
   "cell_type": "code",
   "execution_count": 45,
   "metadata": {},
   "outputs": [
    {
     "data": {
      "text/plain": [
       "62338.59648951426"
      ]
     },
     "execution_count": 45,
     "metadata": {},
     "output_type": "execute_result"
    }
   ],
   "source": [
    "# Evaluation pour KMeans\n",
    "from sklearn.cluster import KMeans\n",
    "kmeans = KMeans(2, random_state = 32)\n",
    "kmeans.fit_predict(df_clustering)\n",
    "kmeans.inertia_"
   ]
  },
  {
   "cell_type": "code",
   "execution_count": 46,
   "metadata": {},
   "outputs": [
    {
     "data": {
      "text/plain": [
       "62351.769240624344"
      ]
     },
     "execution_count": 46,
     "metadata": {},
     "output_type": "execute_result"
    }
   ],
   "source": [
    "# Evaluation pour Mini Batch KMeans\n",
    "from sklearn.cluster import MiniBatchKMeans\n",
    "minikmeans = MiniBatchKMeans(2, random_state = 32)\n",
    "minikmeans.fit_predict(df_clustering)\n",
    "minikmeans.inertia_"
   ]
  },
  {
   "cell_type": "markdown",
   "metadata": {},
   "source": [
    "On constate qu'on obtient des valeurs d'inertie assez importantes. C'est normal car on a beaucoup d'observations mais peu de clusters. Les résultats sont sensiblement identitiques. Je choisis la méthode KMeans."
   ]
  },
  {
   "cell_type": "markdown",
   "metadata": {},
   "source": [
    "**- Analyse des résultats**"
   ]
  },
  {
   "cell_type": "code",
   "execution_count": 47,
   "metadata": {},
   "outputs": [
    {
     "data": {
      "text/html": [
       "<div>\n",
       "<style scoped>\n",
       "    .dataframe tbody tr th:only-of-type {\n",
       "        vertical-align: middle;\n",
       "    }\n",
       "\n",
       "    .dataframe tbody tr th {\n",
       "        vertical-align: top;\n",
       "    }\n",
       "\n",
       "    .dataframe thead th {\n",
       "        text-align: right;\n",
       "    }\n",
       "</style>\n",
       "<table border=\"1\" class=\"dataframe\">\n",
       "  <thead>\n",
       "    <tr style=\"text-align: right;\">\n",
       "      <th></th>\n",
       "      <th>Entreprise</th>\n",
       "      <th>Metier</th>\n",
       "      <th>Technologies</th>\n",
       "      <th>Diplome</th>\n",
       "      <th>Ville</th>\n",
       "      <th>Cat_Experience</th>\n",
       "      <th>cluster</th>\n",
       "    </tr>\n",
       "  </thead>\n",
       "  <tbody>\n",
       "    <tr>\n",
       "      <th>0</th>\n",
       "      <td>Sanofi</td>\n",
       "      <td>Data scientist</td>\n",
       "      <td>Matlab/Python/Pyspark/Scikit-learn/Tensorflow</td>\n",
       "      <td>Master</td>\n",
       "      <td>Paris</td>\n",
       "      <td>Debutant</td>\n",
       "      <td>0</td>\n",
       "    </tr>\n",
       "    <tr>\n",
       "      <th>1</th>\n",
       "      <td>Massachusetts General Hospital(MGH)</td>\n",
       "      <td>Data architecte</td>\n",
       "      <td>Python/Java/Scala/MongoDB</td>\n",
       "      <td>Master</td>\n",
       "      <td>Marseille</td>\n",
       "      <td>Confirme</td>\n",
       "      <td>1</td>\n",
       "    </tr>\n",
       "    <tr>\n",
       "      <th>2</th>\n",
       "      <td>Delve</td>\n",
       "      <td>Lead data scientist</td>\n",
       "      <td>SPSS/SQL/Teradata/R/Python/Tensorflow/scikit-l...</td>\n",
       "      <td>Master</td>\n",
       "      <td>Nantes</td>\n",
       "      <td>Confirme</td>\n",
       "      <td>0</td>\n",
       "    </tr>\n",
       "    <tr>\n",
       "      <th>3</th>\n",
       "      <td>Ann &amp; Robert H. Lurie Children’s Hospital of C...</td>\n",
       "      <td>Data scientist</td>\n",
       "      <td>C/C++/Java/Python</td>\n",
       "      <td>Master</td>\n",
       "      <td>Marseille</td>\n",
       "      <td>Debutant</td>\n",
       "      <td>0</td>\n",
       "    </tr>\n",
       "    <tr>\n",
       "      <th>4</th>\n",
       "      <td>Arm</td>\n",
       "      <td>Data scientist</td>\n",
       "      <td>Matlab/Python/C++/numpy/Tensorflow/scikit-learn</td>\n",
       "      <td>Phd</td>\n",
       "      <td>Bordeaux</td>\n",
       "      <td>Confirme</td>\n",
       "      <td>0</td>\n",
       "    </tr>\n",
       "    <tr>\n",
       "      <th>5</th>\n",
       "      <td>S&amp;P Global Ratings</td>\n",
       "      <td>Lead data scientist</td>\n",
       "      <td>VBA/Python/Excel/R</td>\n",
       "      <td>Master</td>\n",
       "      <td>Lille</td>\n",
       "      <td>Avance</td>\n",
       "      <td>0</td>\n",
       "    </tr>\n",
       "    <tr>\n",
       "      <th>6</th>\n",
       "      <td>NVIDIA</td>\n",
       "      <td>Data scientist</td>\n",
       "      <td>Excel/VBA/R/Python/PySpark</td>\n",
       "      <td>Bachelor</td>\n",
       "      <td>Lille</td>\n",
       "      <td>Debutant</td>\n",
       "      <td>0</td>\n",
       "    </tr>\n",
       "    <tr>\n",
       "      <th>7</th>\n",
       "      <td>Cedars-Sinai Medical Center</td>\n",
       "      <td>Data scientist</td>\n",
       "      <td>Java/C/C++/R/Python</td>\n",
       "      <td>Bachelor</td>\n",
       "      <td>Toulouse</td>\n",
       "      <td>Confirme</td>\n",
       "      <td>0</td>\n",
       "    </tr>\n",
       "    <tr>\n",
       "      <th>8</th>\n",
       "      <td>Fibroblast</td>\n",
       "      <td>Data architecte</td>\n",
       "      <td>Java/Linux/Docker</td>\n",
       "      <td>Bachelor</td>\n",
       "      <td>Paris</td>\n",
       "      <td>Avance</td>\n",
       "      <td>1</td>\n",
       "    </tr>\n",
       "    <tr>\n",
       "      <th>9</th>\n",
       "      <td>General Motors</td>\n",
       "      <td>Data engineer</td>\n",
       "      <td>Python/Java/Linux/GNU</td>\n",
       "      <td>Master</td>\n",
       "      <td>Toulouse</td>\n",
       "      <td>Avance</td>\n",
       "      <td>1</td>\n",
       "    </tr>\n",
       "    <tr>\n",
       "      <th>10</th>\n",
       "      <td>KPMG</td>\n",
       "      <td>Data engineer</td>\n",
       "      <td>Hadoop/Hive/SQL/MariaDB</td>\n",
       "      <td>Master</td>\n",
       "      <td>Bordeaux</td>\n",
       "      <td>Debutant</td>\n",
       "      <td>1</td>\n",
       "    </tr>\n",
       "    <tr>\n",
       "      <th>11</th>\n",
       "      <td>R&amp;D Partners</td>\n",
       "      <td>Lead data scientist</td>\n",
       "      <td>Python/R/machine learning/Excel/VBA/C++</td>\n",
       "      <td>Master</td>\n",
       "      <td>Rouen</td>\n",
       "      <td>Confirme</td>\n",
       "      <td>0</td>\n",
       "    </tr>\n",
       "    <tr>\n",
       "      <th>12</th>\n",
       "      <td>ERPi</td>\n",
       "      <td>Data architecte</td>\n",
       "      <td>Python/Spark/Hive/Hadoop</td>\n",
       "      <td>Phd</td>\n",
       "      <td>Bordeaux</td>\n",
       "      <td>Confirme</td>\n",
       "      <td>1</td>\n",
       "    </tr>\n",
       "    <tr>\n",
       "      <th>13</th>\n",
       "      <td>Ball Aerospace</td>\n",
       "      <td>Data architecte</td>\n",
       "      <td>Python/AWS/Docker</td>\n",
       "      <td>Master</td>\n",
       "      <td>Lyon</td>\n",
       "      <td>Debutant</td>\n",
       "      <td>1</td>\n",
       "    </tr>\n",
       "    <tr>\n",
       "      <th>14</th>\n",
       "      <td>Massachusetts General Hospital(MGH)</td>\n",
       "      <td>Data scientist</td>\n",
       "      <td>Python/Tensorflow/scikit-learn/Deep learning/R</td>\n",
       "      <td>Phd</td>\n",
       "      <td>Paris</td>\n",
       "      <td>Confirme</td>\n",
       "      <td>0</td>\n",
       "    </tr>\n",
       "    <tr>\n",
       "      <th>15</th>\n",
       "      <td>Benchling</td>\n",
       "      <td>Data engineer</td>\n",
       "      <td>Python/Pyspark/Spark</td>\n",
       "      <td>Master</td>\n",
       "      <td>Lyon</td>\n",
       "      <td>Confirme</td>\n",
       "      <td>1</td>\n",
       "    </tr>\n",
       "    <tr>\n",
       "      <th>16</th>\n",
       "      <td>The Boston Consulting Group</td>\n",
       "      <td>Data architecte</td>\n",
       "      <td>C/C++/Java/Python</td>\n",
       "      <td>Master</td>\n",
       "      <td>Lille</td>\n",
       "      <td>Debutant</td>\n",
       "      <td>1</td>\n",
       "    </tr>\n",
       "    <tr>\n",
       "      <th>17</th>\n",
       "      <td>Feeding America</td>\n",
       "      <td>Data scientist</td>\n",
       "      <td>Python/Tensorflow/scikit-learn/Deep learning/R</td>\n",
       "      <td>Phd</td>\n",
       "      <td>Toulouse</td>\n",
       "      <td>Confirme</td>\n",
       "      <td>0</td>\n",
       "    </tr>\n",
       "    <tr>\n",
       "      <th>18</th>\n",
       "      <td>Natera</td>\n",
       "      <td>Data engineer</td>\n",
       "      <td>Python/Pyspark/Spark</td>\n",
       "      <td>Master</td>\n",
       "      <td>Lille</td>\n",
       "      <td>Confirme</td>\n",
       "      <td>1</td>\n",
       "    </tr>\n",
       "    <tr>\n",
       "      <th>19</th>\n",
       "      <td>Ball Aerospace</td>\n",
       "      <td>Data engineer</td>\n",
       "      <td>Docker/PostgreSQL/Elasticsearch/Kibana/MongoDB</td>\n",
       "      <td>No diploma</td>\n",
       "      <td>Lyon</td>\n",
       "      <td>Avance</td>\n",
       "      <td>1</td>\n",
       "    </tr>\n",
       "  </tbody>\n",
       "</table>\n",
       "</div>"
      ],
      "text/plain": [
       "                                           Entreprise               Metier  \\\n",
       "0                                              Sanofi       Data scientist   \n",
       "1                 Massachusetts General Hospital(MGH)      Data architecte   \n",
       "2                                               Delve  Lead data scientist   \n",
       "3   Ann & Robert H. Lurie Children’s Hospital of C...       Data scientist   \n",
       "4                                                 Arm       Data scientist   \n",
       "5                                  S&P Global Ratings  Lead data scientist   \n",
       "6                                              NVIDIA       Data scientist   \n",
       "7                         Cedars-Sinai Medical Center       Data scientist   \n",
       "8                                          Fibroblast      Data architecte   \n",
       "9                                      General Motors        Data engineer   \n",
       "10                                               KPMG        Data engineer   \n",
       "11                                       R&D Partners  Lead data scientist   \n",
       "12                                               ERPi      Data architecte   \n",
       "13                                     Ball Aerospace      Data architecte   \n",
       "14                Massachusetts General Hospital(MGH)       Data scientist   \n",
       "15                                          Benchling        Data engineer   \n",
       "16                        The Boston Consulting Group      Data architecte   \n",
       "17                                    Feeding America       Data scientist   \n",
       "18                                             Natera        Data engineer   \n",
       "19                                     Ball Aerospace        Data engineer   \n",
       "\n",
       "                                         Technologies     Diplome      Ville  \\\n",
       "0       Matlab/Python/Pyspark/Scikit-learn/Tensorflow      Master      Paris   \n",
       "1                           Python/Java/Scala/MongoDB      Master  Marseille   \n",
       "2   SPSS/SQL/Teradata/R/Python/Tensorflow/scikit-l...      Master     Nantes   \n",
       "3                                   C/C++/Java/Python      Master  Marseille   \n",
       "4     Matlab/Python/C++/numpy/Tensorflow/scikit-learn         Phd   Bordeaux   \n",
       "5                                  VBA/Python/Excel/R      Master      Lille   \n",
       "6                          Excel/VBA/R/Python/PySpark    Bachelor      Lille   \n",
       "7                                 Java/C/C++/R/Python    Bachelor   Toulouse   \n",
       "8                                   Java/Linux/Docker    Bachelor      Paris   \n",
       "9                               Python/Java/Linux/GNU      Master   Toulouse   \n",
       "10                            Hadoop/Hive/SQL/MariaDB      Master   Bordeaux   \n",
       "11            Python/R/machine learning/Excel/VBA/C++      Master      Rouen   \n",
       "12                           Python/Spark/Hive/Hadoop         Phd   Bordeaux   \n",
       "13                                  Python/AWS/Docker      Master       Lyon   \n",
       "14     Python/Tensorflow/scikit-learn/Deep learning/R         Phd      Paris   \n",
       "15                               Python/Pyspark/Spark      Master       Lyon   \n",
       "16                                  C/C++/Java/Python      Master      Lille   \n",
       "17     Python/Tensorflow/scikit-learn/Deep learning/R         Phd   Toulouse   \n",
       "18                               Python/Pyspark/Spark      Master      Lille   \n",
       "19     Docker/PostgreSQL/Elasticsearch/Kibana/MongoDB  No diploma       Lyon   \n",
       "\n",
       "   Cat_Experience  cluster  \n",
       "0        Debutant        0  \n",
       "1        Confirme        1  \n",
       "2        Confirme        0  \n",
       "3        Debutant        0  \n",
       "4        Confirme        0  \n",
       "5          Avance        0  \n",
       "6        Debutant        0  \n",
       "7        Confirme        0  \n",
       "8          Avance        1  \n",
       "9          Avance        1  \n",
       "10       Debutant        1  \n",
       "11       Confirme        0  \n",
       "12       Confirme        1  \n",
       "13       Debutant        1  \n",
       "14       Confirme        0  \n",
       "15       Confirme        1  \n",
       "16       Debutant        1  \n",
       "17       Confirme        0  \n",
       "18       Confirme        1  \n",
       "19         Avance        1  "
      ]
     },
     "execution_count": 47,
     "metadata": {},
     "output_type": "execute_result"
    }
   ],
   "source": [
    "# Visualisons les clusters créés afin d'avoir une intuition de ce qui s'est passé\n",
    "df_clusters = df\n",
    "df_clusters['cluster'] = kmeans.labels_\n",
    "df.head(20)"
   ]
  },
  {
   "cell_type": "markdown",
   "metadata": {},
   "source": [
    "A première vu, il semblerait que le cluster 1 correspond aux data engineers et data architectes et le cluster 0 aux data scientists et lead data scientists"
   ]
  },
  {
   "cell_type": "code",
   "execution_count": 48,
   "metadata": {},
   "outputs": [
    {
     "data": {
      "text/plain": [
       "Metier\n",
       "Data architecte        2123\n",
       "Data engineer          2347\n",
       "Data scientist            0\n",
       "Lead data scientist      22\n",
       "Name: cluster, dtype: int32"
      ]
     },
     "execution_count": 48,
     "metadata": {},
     "output_type": "execute_result"
    }
   ],
   "source": [
    "# Vérifions l'intuition précédente\n",
    "df_clusters.groupby(\"Metier\")[\"cluster\"].sum()"
   ]
  },
  {
   "cell_type": "code",
   "execution_count": 49,
   "metadata": {
    "scrolled": true
   },
   "outputs": [
    {
     "data": {
      "text/plain": [
       "Data scientist         3865\n",
       "Data engineer          2347\n",
       "Data architecte        2123\n",
       "Lead data scientist    1228\n",
       "Name: Metier, dtype: int64"
      ]
     },
     "execution_count": 49,
     "metadata": {},
     "output_type": "execute_result"
    }
   ],
   "source": [
    "df_clusters[\"Metier\"].value_counts()"
   ]
  },
  {
   "cell_type": "markdown",
   "metadata": {},
   "source": [
    "Ces 2 tableaux nous permettent de constater que :\n",
    "- Le cluster 1 correspond aux data architecte et engineer (excepté 22 lead data scientists)\n",
    "- Le cluster 0 correspond aux data scientists et lead data scientists"
   ]
  },
  {
   "cell_type": "markdown",
   "metadata": {},
   "source": [
    "Notre clustering semble avoir très bien fonctionné et détecté une distinction entre data engineer et architecte d'un côté, data scientists de l'autre. Ceci est compréhensible : data scientist et lead data scientist sont les mêmes métiers avec un niveau de séniorité différents, ce sont donc des profils similaires. Data engineer et data architect ont tous les 2 besoin d'avoir des notions d'archtitecture, d'où le fait qu'ils se retrouvent dans le même cluster. On pourrait vérifier sur les 22 lead data scientist \"mal tagués\" leur profil. Mon intuition est qu'ils ont un profil hybride et qu'ils ont développé au fil du temps à la fois des compétences de data science mais aussi de data engineering, d'où leur mauvais taggage."
   ]
  },
  {
   "cell_type": "markdown",
   "metadata": {},
   "source": [
    "### 9) Réaliser la prédiction des métiers manquants dans la base de données par l'algorithme de votre choix\n",
    "-  Justifier la performance de votre algorithme grace à une métrique.\n",
    "-  Interpréter votre resultat.  "
   ]
  },
  {
   "cell_type": "markdown",
   "metadata": {},
   "source": [
    "Les étapes setont les suivantes :\n",
    "- Définition de la fonction d'évaluation\n",
    "- Split du dataframe\n",
    "- Comparaison de 3 modèles et choix\n",
    "- Prédiction des individus non étiquetés"
   ]
  },
  {
   "cell_type": "markdown",
   "metadata": {},
   "source": [
    "**- Fonction d'évaluation**"
   ]
  },
  {
   "cell_type": "code",
   "execution_count": 50,
   "metadata": {},
   "outputs": [],
   "source": [
    "#Création de la fonction d'évaluation pâr validation croisée\n",
    "from sklearn.model_selection import KFold, cross_val_score\n",
    "n_folds = 5\n",
    "\n",
    "def score_cv(model):\n",
    "    kf = KFold(n_folds, shuffle=True, random_state=42).get_n_splits(X)\n",
    "    score = cross_val_score(model, X, y, cv = kf)\n",
    "    return(\"score: {:.4f} ({:.4f})\".format(score.mean(), score.std()))"
   ]
  },
  {
   "cell_type": "markdown",
   "metadata": {},
   "source": [
    "**- Split du dataframe**"
   ]
  },
  {
   "cell_type": "code",
   "execution_count": 51,
   "metadata": {},
   "outputs": [],
   "source": [
    "# Split du dataframe\n",
    "y = df_full_technos[\"Metier\"].dropna().values"
   ]
  },
  {
   "cell_type": "code",
   "execution_count": 52,
   "metadata": {},
   "outputs": [],
   "source": [
    "# On applique get_dummies comme précédemment et on transforme en array\n",
    "X = pd.get_dummies(df_full_technos)"
   ]
  },
  {
   "cell_type": "code",
   "execution_count": 53,
   "metadata": {},
   "outputs": [],
   "source": [
    "# Split de X\n",
    "condition_pas_de_metier = (X[\"Metier_Data scientist\"]==0) & (X[\"Metier_Lead data scientist\"]==0) & (X[\"Metier_Data architecte\"]==0) & (X[\"Metier_Data engineer\"]==0) \n",
    "X_predict = X.loc[condition_pas_de_metier].drop([\"Metier_Data scientist\", \"Metier_Lead data scientist\", \"Metier_Data architecte\", \"Metier_Data engineer\"], axis=1)\n",
    "X = X.loc[condition_pas_de_metier == False].drop([\"Metier_Data scientist\", \"Metier_Lead data scientist\", \"Metier_Data architecte\", \"Metier_Data engineer\"], axis=1)"
   ]
  },
  {
   "cell_type": "markdown",
   "metadata": {},
   "source": [
    "**- Comparaison de 3 modèles et choix**\n",
    "<br>Je teste ici 3 modèles classiques : les k plus proches voisins, le SVM et la régression logistique.\n",
    "<br>Pour chacun de ces modèles, j'effectue une gridsearchCV afin de déterminer les meileurs hyperparamètres (vu les temps de calculs de ma machine, j'optimise seulement les paramètres principaux mais une piste d'amélioration serait de jouer avec plus d'hyperparamètres). Une fois les paramètres déterminés, je calcule le score avec une validation croisée."
   ]
  },
  {
   "cell_type": "markdown",
   "metadata": {},
   "source": [
    "- k plus proches voisins"
   ]
  },
  {
   "cell_type": "code",
   "execution_count": 54,
   "metadata": {},
   "outputs": [],
   "source": [
    "# On fait un gridsearch afin de trouver les meilleurs hyperparamètres\n",
    "from sklearn.model_selection import GridSearchCV\n",
    "from sklearn.neighbors import KNeighborsClassifier\n",
    "\n",
    "# Le gridsearchcv met du temps à fonctionner, je mets donc en commentaire pour éviter de refaire le calcul à chaque fois.\n",
    "# Le meilleur paramètre est : \n",
    "#params = {'n_neighbors' : [3,5,7,9],\n",
    "#         'weights' : ['uniform','distance']}\n",
    "#gridsearch_knn = GridSearchCV (KNeighborsClassifier(), params, cv=5)\n",
    "#gridsearch_knn.fit(X, y)\n",
    "#print (\"Meilleurs parametres: \", gridsearch_knn.best_params_)"
   ]
  },
  {
   "cell_type": "code",
   "execution_count": 55,
   "metadata": {},
   "outputs": [
    {
     "data": {
      "text/plain": [
       "'score: 0.8670 (0.0038)'"
      ]
     },
     "execution_count": 55,
     "metadata": {},
     "output_type": "execute_result"
    }
   ],
   "source": [
    "knn = KNeighborsClassifier(n_neighbors=9)\n",
    "score_cv(knn)"
   ]
  },
  {
   "cell_type": "markdown",
   "metadata": {},
   "source": [
    "- SVM"
   ]
  },
  {
   "cell_type": "code",
   "execution_count": 56,
   "metadata": {},
   "outputs": [],
   "source": [
    "# On fait un gridsearch afin de trouver les meilleurs hyperparamètres\n",
    "from sklearn.svm import LinearSVC\n",
    "\n",
    "# Le meilleur paramètre après exécution du code est 0.01\n",
    "\n",
    "#params = {'C' : [0.001,0.01,0.1,1,10,100,1000]}\n",
    "#gridsearch_SVC = GridSearchCV (LinearSVC(), params, cv=5)\n",
    "#gridsearch_SVC.fit(X, y)\n",
    "#print (\"Meilleurs parametres: \", gridsearch_SVC.best_params_)"
   ]
  },
  {
   "cell_type": "code",
   "execution_count": 57,
   "metadata": {},
   "outputs": [
    {
     "data": {
      "text/plain": [
       "'score: 0.8814 (0.0033)'"
      ]
     },
     "execution_count": 57,
     "metadata": {},
     "output_type": "execute_result"
    }
   ],
   "source": [
    "svc = LinearSVC (C=0.01)\n",
    "score_cv(svc)"
   ]
  },
  {
   "cell_type": "markdown",
   "metadata": {},
   "source": [
    "- Regression logistique"
   ]
  },
  {
   "cell_type": "code",
   "execution_count": 58,
   "metadata": {},
   "outputs": [],
   "source": [
    "from sklearn.linear_model import LogisticRegression\n",
    "\n",
    "# Meilleur paramètre : C=1\n",
    "\n",
    "#params = {'C' : [0.001,0.01,0.1,1,10,100,1000]}\n",
    "#gridsearch_logistic = GridSearchCV (LogisticRegression(), params, cv=5)\n",
    "#gridsearch_logistic.fit(X, y)\n",
    "#print (\"Meilleurs parametres: \", gridsearch_logistic.best_params_)"
   ]
  },
  {
   "cell_type": "code",
   "execution_count": 59,
   "metadata": {},
   "outputs": [
    {
     "name": "stderr",
     "output_type": "stream",
     "text": [
      "C:\\Users\\Moreau Adrien\\Anaconda3.1\\lib\\site-packages\\sklearn\\linear_model\\logistic.py:432: FutureWarning: Default solver will be changed to 'lbfgs' in 0.22. Specify a solver to silence this warning.\n",
      "  FutureWarning)\n",
      "C:\\Users\\Moreau Adrien\\Anaconda3.1\\lib\\site-packages\\sklearn\\linear_model\\logistic.py:469: FutureWarning: Default multi_class will be changed to 'auto' in 0.22. Specify the multi_class option to silence this warning.\n",
      "  \"this warning.\", FutureWarning)\n",
      "C:\\Users\\Moreau Adrien\\Anaconda3.1\\lib\\site-packages\\sklearn\\linear_model\\logistic.py:432: FutureWarning: Default solver will be changed to 'lbfgs' in 0.22. Specify a solver to silence this warning.\n",
      "  FutureWarning)\n",
      "C:\\Users\\Moreau Adrien\\Anaconda3.1\\lib\\site-packages\\sklearn\\linear_model\\logistic.py:469: FutureWarning: Default multi_class will be changed to 'auto' in 0.22. Specify the multi_class option to silence this warning.\n",
      "  \"this warning.\", FutureWarning)\n",
      "C:\\Users\\Moreau Adrien\\Anaconda3.1\\lib\\site-packages\\sklearn\\linear_model\\logistic.py:432: FutureWarning: Default solver will be changed to 'lbfgs' in 0.22. Specify a solver to silence this warning.\n",
      "  FutureWarning)\n",
      "C:\\Users\\Moreau Adrien\\Anaconda3.1\\lib\\site-packages\\sklearn\\linear_model\\logistic.py:469: FutureWarning: Default multi_class will be changed to 'auto' in 0.22. Specify the multi_class option to silence this warning.\n",
      "  \"this warning.\", FutureWarning)\n",
      "C:\\Users\\Moreau Adrien\\Anaconda3.1\\lib\\site-packages\\sklearn\\linear_model\\logistic.py:432: FutureWarning: Default solver will be changed to 'lbfgs' in 0.22. Specify a solver to silence this warning.\n",
      "  FutureWarning)\n",
      "C:\\Users\\Moreau Adrien\\Anaconda3.1\\lib\\site-packages\\sklearn\\linear_model\\logistic.py:469: FutureWarning: Default multi_class will be changed to 'auto' in 0.22. Specify the multi_class option to silence this warning.\n",
      "  \"this warning.\", FutureWarning)\n",
      "C:\\Users\\Moreau Adrien\\Anaconda3.1\\lib\\site-packages\\sklearn\\linear_model\\logistic.py:432: FutureWarning: Default solver will be changed to 'lbfgs' in 0.22. Specify a solver to silence this warning.\n",
      "  FutureWarning)\n",
      "C:\\Users\\Moreau Adrien\\Anaconda3.1\\lib\\site-packages\\sklearn\\linear_model\\logistic.py:469: FutureWarning: Default multi_class will be changed to 'auto' in 0.22. Specify the multi_class option to silence this warning.\n",
      "  \"this warning.\", FutureWarning)\n"
     ]
    },
    {
     "data": {
      "text/plain": [
       "'score: 0.8923 (0.0046)'"
      ]
     },
     "execution_count": 59,
     "metadata": {},
     "output_type": "execute_result"
    }
   ],
   "source": [
    "logistic = LogisticRegression (C=1)\n",
    "score_cv(logistic)"
   ]
  },
  {
   "cell_type": "markdown",
   "metadata": {},
   "source": [
    "- Analyse des résultats et choix du modèle"
   ]
  },
  {
   "cell_type": "markdown",
   "metadata": {},
   "source": [
    "On remarque que les résultats sont globalement bons et varient entre 85% et 90% d'accuracy, ce qui est un bon score pour un modèle simple.\n",
    "<br>Les meilleurs résultats sont obtenus avec la régression logistique. C'est donc ce modèle qu'on va retenir.\n",
    "<br>Pour améliorer les résultats, on pourrait continuer le feature engineering et optimiser plus en détail les hyperparamètres."
   ]
  },
  {
   "cell_type": "markdown",
   "metadata": {},
   "source": [
    "**- Prédiction des individus non étiquetés**"
   ]
  },
  {
   "cell_type": "code",
   "execution_count": 60,
   "metadata": {},
   "outputs": [
    {
     "name": "stderr",
     "output_type": "stream",
     "text": [
      "C:\\Users\\Moreau Adrien\\Anaconda3.1\\lib\\site-packages\\sklearn\\linear_model\\logistic.py:432: FutureWarning: Default solver will be changed to 'lbfgs' in 0.22. Specify a solver to silence this warning.\n",
      "  FutureWarning)\n",
      "C:\\Users\\Moreau Adrien\\Anaconda3.1\\lib\\site-packages\\sklearn\\linear_model\\logistic.py:469: FutureWarning: Default multi_class will be changed to 'auto' in 0.22. Specify the multi_class option to silence this warning.\n",
      "  \"this warning.\", FutureWarning)\n"
     ]
    },
    {
     "data": {
      "text/plain": [
       "array(['Data engineer', 'Lead data scientist', 'Data scientist',\n",
       "       'Data scientist', 'Data architecte', 'Data scientist',\n",
       "       'Data scientist', 'Lead data scientist', 'Data engineer',\n",
       "       'Data scientist', 'Data architecte', 'Data engineer',\n",
       "       'Data architecte', 'Data scientist', 'Data engineer',\n",
       "       'Data scientist', 'Data architecte', 'Data scientist',\n",
       "       'Data scientist'], dtype=object)"
      ]
     },
     "execution_count": 60,
     "metadata": {},
     "output_type": "execute_result"
    }
   ],
   "source": [
    "logistic.fit(X,y)\n",
    "y_predict = logistic.predict(X_predict)\n",
    "y_predict"
   ]
  },
  {
   "cell_type": "markdown",
   "metadata": {},
   "source": [
    "### 10) Décrire de façon détaillée les différentes étapes pour mener à bien un projet data complexe.\n",
    "\n",
    "Dans le cadre d’une campagne de recrutement vous avez reçu un ensemble de cv qui ne sont pas à jour (le poste actuel n’est pas présent). Deux exemple de CV vous sont donnés en pièce jointe (il n'y a pas de mise en page type). Tous les CV sont au format PDF.\n",
    "\n",
    "On souhaite connaitre le poste actuel de chaque candidat.\n",
    "\n",
    "-  Quelles sont les différentes étapes nécessaires à la réalisation d'un tel projet?\n",
    "-  Pour chaque étape, détaillez les taches à accomplir, les méthodes à suivre, les pistes possibles, les points critiques.\n",
    "-  Justifiez consciencieusement vos choix\n"
   ]
  },
  {
   "cell_type": "markdown",
   "metadata": {},
   "source": [
    "**Hypothèse 1 :** \n",
    "<br>L'entreprise concernée possède une CVthèque de ses employés et cette entreprise est assez grande pour que les principales branches de métiers (en rapport avec le poste à pourvoir, en partant du principe que les candidatures sont logiques) soient bien représentées. On pourrait alors partir sur une méthode supervisée de classification en utilisant comme jeu d'entrainement les CV des employés déjà labelisés, puis en prédisant les CV de la campagne de recrutement non labélisés"
   ]
  },
  {
   "cell_type": "markdown",
   "metadata": {},
   "source": [
    "**Hypothèse 2 :** \n",
    "<br>L'entreprise n'a pas accès facilement aux CV de ses employés mais elle possède des fiches de poste par métier. On suppose aussi que cette entreprise est assez grande pour que les principales branches de métiers soient bien représentées. Même méthode que précédemment avec à la place de la CVthèque les fiches de poste."
   ]
  },
  {
   "cell_type": "markdown",
   "metadata": {},
   "source": [
    "**Hypothèse 3 :**\n",
    "<br>Pas de CVthèque, pas de fiches de postes ou entreprise trop petite. Dans ces cas-là, on partira sur une approche non supervisée en faisant un clustering des CV, puis en regardant quelques CV pour chaque cluster afin de déterminer le métier du cluster, ce qui n'automatise pas complétement la tache comme pour les 2 autres hypothèses, mais qui permet un grand gain de temps de labelisation.\n",
    "<br> Une autre possibilité qui me parait beaucoup plus complexe serait de se baser une base open source de CV avec un API. Mais encore faut-il trouver une base, et qu'elle soit cohérente par rapport aux métiers visés (on ne souhaite par exemple par avoir des CV du milieu médical si l'entreprise est dans le BTP). Je n'explorerai pas cette possibilité qui me semble trop complexe pour un simple problème de labélisation de CV."
   ]
  },
  {
   "cell_type": "markdown",
   "metadata": {},
   "source": [
    "## Etapes du projet"
   ]
  },
  {
   "cell_type": "markdown",
   "metadata": {},
   "source": [
    "### 1) Cadrage du projet & Collecte des données\n",
    "\n",
    "- Voir avec les métiers dans quelle hypothèse on se trouve et **définir précisément le besoin** et son **scope** (par exemple, langue des CV que en français ou aussi en anglais, etc...)\n",
    "- **Collecter les données** (CV, fiches de poste, extract du SIRH pour les métiers des employés...)\n",
    "- Tout **centraliser dans une base de données**\n",
    "<br>*Bien s'assurer que le scope du projet est délimité et vérifier qu'on a les data pour répondre au problème, sinon pas de projet*"
   ]
  },
  {
   "cell_type": "markdown",
   "metadata": {},
   "source": [
    "### 2) Preprocessing des data\n",
    "\n",
    "Quelque soit l'hypothèse dans laquelle on se trouve, on a un corpus de textes a cleaner avant d'appliquer tout algorithme de Machine Learning. Ce cleaning va permettre de réduire considérablement le nombre de dimension afin de palier au fléau de la dimension\n",
    "On suppose tous les documents en PDF.\n",
    "- **Extraction du contenu des CV** à l'aide du parser de la librairie Tika\n",
    "- **Extraction des mots** de chaque texte à partir de RegExpTokeniser de la librairie NLTK\n",
    "- **Suppression des stop_words**. On utilise pour cela la méthode get_stop_words librairie stop_words qui a l'avantage de pouvoir choisir les stop_words dans la majorité des langues dont le francais.\n",
    "<br>Afin de compléter cette liste de stop_words avec des mots inutiles et spécifiques au corpus, on peut également supprimer les mots qui apparaissent plus d'une certaine occurence et moins d'une certaine occurence. On élimine ainsi les mots qui apparaissent trop ou trop peu pour différencier les CV entre eux\n",
    "- **Mise en minuscule des mots** afin de compter pour un même mot \"ANGLAIS\" et \"anglais\" (méthode lower())\n",
    "- **Suppression des accents**\n",
    "- **Stemming ou Lemmatisation** : il s'agit de prendre la racine des mots. La méthode de stemming est la plus simple, je commencerais par celle-là, en testant éventuellement dans un second temps la lemmatisation afin de voir si ça améliore les performances du modèle. Méthode FrenchStemmer() de la librairie nltk.\n",
    "- **n-grams (optionnel)** : on peut tester, peut être dans un second temps, si la création de n_grams améliore les résultats. Cette méthode consiste à rassembler n mots consécutifs (on choisit souvent n= 2 ou 3). Ceci permet par exemple de consider \"Machine Learning\" comme une même notion et non pas de le séparer en \"machine\" et \"learning\"\n",
    "- **Format final en input des algorithmes : Bag of Words, TF-IDF ou plongement de mots (Word2Vec)**. Le choix de l'une ou l'autre de ces méthodes dépend du choix du modèle qui sera fait. Certains algorithmes sont plus performants avec un Bag of Words en entrée, d'autres avec le TF-IDF"
   ]
  },
  {
   "cell_type": "markdown",
   "metadata": {},
   "source": [
    "### 3) Définition de la méthode de validation\n",
    "\n",
    "Afin de comparer les modèles et d'évaluer leurs performances, il faut choisir une méthode d'évaluation à l'aide d'une métrique. \n",
    "- **Supervisé** : On pourra afficher la matrice de confusion et afficher les différntes métriques possibles : accuracy, précision etc... C'est avec le métier qu'il faudra déterminer la bonne métrique.\n",
    "- **Non supervisé** : On pourra choisir l'inertie (comme vu à la question 8.)"
   ]
  },
  {
   "cell_type": "markdown",
   "metadata": {},
   "source": [
    "### 4) Test & choix du modèle\n",
    "\n",
    "On choisira une méthode fortement régularisée (pour éviter le surapprentissage, la colinéarité,…) et capable techniquement d’appréhender les grandes dimensions.\n",
    "<br>Plusieurs modèles parmis ceux cités ci-dessous pourront être testés afin de sélectionner celui ayant les meilleurs résultats\n",
    "- **Supervisé** : SVM en jouant sur le paramètre de coût, , classieurs linéaires régularisés (Ridge, Lasso, ElasticNet) en jouant sur la paramètre de régularisation, réseaux de neurones (RNN, LSTM Networks)\n",
    "<br>*Pour les réseaux de neurones, beaucoup de tests sont nécessaires avant d'obtenir des résultats probants et stables, notamment pour déterminer la valeur des hyperparamètres (nombre & taille des calques, learning rate, algorithme de gradient utilisé, etc)*\n",
    "- **Non supervisé** : KMeans, clustering hierarchique\n",
    "<br>*Le choix du nombre de cluster se fera en optimisant la fonction de validation, mais aussi en validant avec les métiers*\n",
    "<br> Il suffira par la suite de regarder 1 ou 2 CV de chaque cluster pour déterminer le métier de ce cluster"
   ]
  },
  {
   "cell_type": "markdown",
   "metadata": {},
   "source": [
    "### 5) Amélioration des résultats en faisant du feature engineering\n",
    "\n",
    "On pourra par exemple tester si les n-grams améliorent les résultats, affiner la sélection des stop_words, appliquer la lemmatisation et non le stemming... L'objectif étant de voir si on améliore les performances du modèle."
   ]
  },
  {
   "cell_type": "markdown",
   "metadata": {},
   "source": [
    "### 6) Mise en production\n",
    "\n",
    "La méthode de mise en production et le rendu du livrable final dépend du besoin. Est-ce qu'on veut une application qui à partir de CV donne directement le résultat?\n",
    "Est-ce que le script va directement être utilisé par le métier pour faire les prédictions?\n",
    "Il faudra répondre à ces questions afin de déterminer le meilleur outil. Il y aura potentiellement besoin de data engineer ou data architecte pour cette phase.\n",
    "Le temps de calcul est très important à prendre en compte à cette étape, même s'il a normalement été pris en compte par le choix des méthodes précédentes."
   ]
  }
 ],
 "metadata": {
  "kernelspec": {
   "display_name": "Python 3",
   "language": "python",
   "name": "python3"
  },
  "language_info": {
   "codemirror_mode": {
    "name": "ipython",
    "version": 3
   },
   "file_extension": ".py",
   "mimetype": "text/x-python",
   "name": "python",
   "nbconvert_exporter": "python",
   "pygments_lexer": "ipython3",
   "version": "3.7.3"
  }
 },
 "nbformat": 4,
 "nbformat_minor": 2
}
